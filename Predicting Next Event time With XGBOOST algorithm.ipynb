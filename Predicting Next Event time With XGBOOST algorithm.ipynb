{
 "cells": [
  {
   "cell_type": "markdown",
   "id": "de29c027",
   "metadata": {},
   "source": [
    "# Forecasting Next Event Time with timeseries and a tree based ensemble algorithm 'XGBOOST' "
   ]
  },
  {
   "cell_type": "markdown",
   "id": "ebbedd32",
   "metadata": {},
   "source": [
    "To forecast the next event time with a tree-based ensemble algorithm like XGBoost, i will use the following steps:\n",
    "\n",
    "1. Data Preparation: First, i need to prepare the dataset. subset the data into smaller size, check for shapes, info and types of dataset, check for missing values and drop the columns not needed. convert the event time column into a time-series format that XGBoost can use for training. \n",
    "\n",
    "2. Feature Engineering: i need to do additional engineer features from the event time column, such as the year, month, day of the week, hour of the day, minutes, week of the day etc. These features will  help XGBoost to better capture any patterns or trends in the data and then saving the subset data to csv.\n",
    "\n",
    "3. Train/Test Split: Splitting the data into training and testing sets, ensuring that the training data contains enough samples from each event type, even with class imbalance. i will also need to encode the event type column to convert it into a numerical feature.\n",
    "\n",
    "3. scaling and checking for outliers of the split training dataset, work on the test dataset, check for corellations, do features importance and then decision regression.\n",
    "\n",
    "4. Model Training: Train an XGBoost model on the training data, using the event time and event type columns as features.\n",
    "\n",
    "5. Used the XGBoost tuning hyperparameters(i used randomsearcCV) to achieve the best performance. and i also use cross-validation to ensure that the model is not overfitting.\n",
    "\n",
    "6. Model Evaluation: Evaluating the XGBoost model's performance on the testing set using metrics such as mean absolute error, root mean squared error. and to make sure i consider both overall performance and performance for each event type, especially with class imbalance.\n",
    "\n",
    "7. Prediction: Once the model is trained and evaluated, i will use it to make predictions on new data(will pick account id from the subset data and use as inputs).The model should then give output of the predicted next event time."
   ]
  },
  {
   "cell_type": "code",
   "execution_count": 1,
   "id": "cd3d4d15",
   "metadata": {},
   "outputs": [],
   "source": [
    "#Importing needed libriaries\n",
    "import numpy as np\n",
    "import pandas as pd\n",
    "import matplotlib.pyplot as plt\n",
    "import seaborn as sns \n",
    "sns.set()\n",
    "from sklearn.model_selection import train_test_split\n",
    "from sklearn.ensemble import RandomForestClassifier\n",
    "from sklearn.metrics import confusion_matrix, accuracy_score, f1_score, auc, plot_roc_curve,ConfusionMatrixDisplay\n",
    "from sklearn.metrics import roc_curve, roc_auc_score, balanced_accuracy_score, classification_report\n",
    "from sklearn.tree import DecisionTreeRegressor\n",
    "from sklearn.tree import DecisionTreeRegressor\n",
    "from sklearn.ensemble import RandomForestRegressor\n",
    "from xgboost import XGBRegressor\n",
    "from lightgbm import LGBMRegressor\n",
    "from sklearn.neighbors import KNeighborsRegressor\n",
    "from sklearn.linear_model import LinearRegression\n",
    "from matplotlib.image import imread\n",
    "from sklearn.metrics import mean_squared_error\n",
    "from sklearn.metrics import mean_absolute_error\n",
    "from sklearn.metrics import r2_score\n",
    "\n",
    "\n",
    "#pd.set_option('display.max_rows', 500)\n",
    "pd.set_option('display.max_columns', 500)\n",
    "pd.set_option('display.width', 1000)"
   ]
  },
  {
   "cell_type": "code",
   "execution_count": 2,
   "id": "96a354bf",
   "metadata": {},
   "outputs": [
    {
     "name": "stdout",
     "output_type": "stream",
     "text": [
      "<class 'pandas.core.frame.DataFrame'>\n",
      "RangeIndex: 3242076 entries, 0 to 3242075\n",
      "Data columns (total 5 columns):\n",
      " #   Column           Dtype \n",
      "---  ------           ----- \n",
      " 0   account_id       object\n",
      " 1   event_time       object\n",
      " 2   event_type       object\n",
      " 3   product_id       int64 \n",
      " 4   additional_data  object\n",
      "dtypes: int64(1), object(4)\n",
      "memory usage: 1.0 GB\n",
      "None\n"
     ]
    }
   ],
   "source": [
    "#Call data set to use\n",
    "df = pd.read_csv(\"actions2load.csv\")\n",
    "print(df.info(memory_usage='deep'))"
   ]
  },
  {
   "cell_type": "code",
   "execution_count": 4,
   "id": "24891d9f",
   "metadata": {},
   "outputs": [
    {
     "name": "stdout",
     "output_type": "stream",
     "text": [
      "(100000, 5)\n"
     ]
    }
   ],
   "source": [
    "#Subsetting the data set to be able to fit the algorithm picked\n",
    "subset_size = 100000\n",
    "subset_df = df.sample(n=subset_size, random_state=42)\n",
    "print(subset_df.shape)"
   ]
  },
  {
   "cell_type": "code",
   "execution_count": 5,
   "id": "00f5c9be",
   "metadata": {},
   "outputs": [],
   "source": [
    "#Sorting the subset data set to be re-arrange from the randomly picked main dataset\n",
    "subset_df_sorted = subset_df.sort_index()"
   ]
  },
  {
   "cell_type": "code",
   "execution_count": 6,
   "id": "8d4dc1ae",
   "metadata": {},
   "outputs": [
    {
     "data": {
      "text/html": [
       "<div>\n",
       "<style scoped>\n",
       "    .dataframe tbody tr th:only-of-type {\n",
       "        vertical-align: middle;\n",
       "    }\n",
       "\n",
       "    .dataframe tbody tr th {\n",
       "        vertical-align: top;\n",
       "    }\n",
       "\n",
       "    .dataframe thead th {\n",
       "        text-align: right;\n",
       "    }\n",
       "</style>\n",
       "<table border=\"1\" class=\"dataframe\">\n",
       "  <thead>\n",
       "    <tr style=\"text-align: right;\">\n",
       "      <th></th>\n",
       "      <th>account_id</th>\n",
       "      <th>event_time</th>\n",
       "      <th>event_type</th>\n",
       "      <th>product_id</th>\n",
       "      <th>additional_data</th>\n",
       "    </tr>\n",
       "  </thead>\n",
       "  <tbody>\n",
       "    <tr>\n",
       "      <th>12</th>\n",
       "      <td>8587c95bad699891a6a0cd9e9f7dfbda</td>\n",
       "      <td>2019-11-29 12:14:16.202</td>\n",
       "      <td>ReadingOwnedBook</td>\n",
       "      <td>844</td>\n",
       "      <td>480s</td>\n",
       "    </tr>\n",
       "    <tr>\n",
       "      <th>27</th>\n",
       "      <td>0970f0bb3ab5479b8a1c5c31945ec379</td>\n",
       "      <td>2019-11-29 12:18:21.168</td>\n",
       "      <td>HighlightCreated</td>\n",
       "      <td>869</td>\n",
       "      <td>278830</td>\n",
       "    </tr>\n",
       "    <tr>\n",
       "      <th>36</th>\n",
       "      <td>bcb7c13ff9746a60fa8c3e748acd054d</td>\n",
       "      <td>2019-11-29 12:20:34.09</td>\n",
       "      <td>ReadingOwnedBook</td>\n",
       "      <td>1090</td>\n",
       "      <td>60s</td>\n",
       "    </tr>\n",
       "    <tr>\n",
       "      <th>83</th>\n",
       "      <td>4329c5badb1e019b2fca73b69489cf59</td>\n",
       "      <td>2019-11-29 12:29:58.628</td>\n",
       "      <td>ReadingFreePreview</td>\n",
       "      <td>882</td>\n",
       "      <td>720s</td>\n",
       "    </tr>\n",
       "    <tr>\n",
       "      <th>90</th>\n",
       "      <td>70ff8976a6e249b37a22bf0bc754e5a1</td>\n",
       "      <td>2019-11-29 12:31:07.413</td>\n",
       "      <td>ReadingOwnedBook</td>\n",
       "      <td>1178</td>\n",
       "      <td>60s</td>\n",
       "    </tr>\n",
       "  </tbody>\n",
       "</table>\n",
       "</div>"
      ],
      "text/plain": [
       "                          account_id               event_time          event_type  product_id additional_data\n",
       "12  8587c95bad699891a6a0cd9e9f7dfbda  2019-11-29 12:14:16.202    ReadingOwnedBook         844            480s\n",
       "27  0970f0bb3ab5479b8a1c5c31945ec379  2019-11-29 12:18:21.168    HighlightCreated         869          278830\n",
       "36  bcb7c13ff9746a60fa8c3e748acd054d   2019-11-29 12:20:34.09    ReadingOwnedBook        1090             60s\n",
       "83  4329c5badb1e019b2fca73b69489cf59  2019-11-29 12:29:58.628  ReadingFreePreview         882            720s\n",
       "90  70ff8976a6e249b37a22bf0bc754e5a1  2019-11-29 12:31:07.413    ReadingOwnedBook        1178             60s"
      ]
     },
     "execution_count": 6,
     "metadata": {},
     "output_type": "execute_result"
    }
   ],
   "source": [
    "#Calling the few row of the subset sorted data\n",
    "subset_df_sorted.head()"
   ]
  },
  {
   "cell_type": "code",
   "execution_count": 7,
   "id": "98edcc2a",
   "metadata": {},
   "outputs": [
    {
     "data": {
      "text/plain": [
       "(100000, 5)"
      ]
     },
     "execution_count": 7,
     "metadata": {},
     "output_type": "execute_result"
    }
   ],
   "source": [
    "#Checking shape of the new subset sorted data\n",
    "subset_df_sorted.shape"
   ]
  },
  {
   "cell_type": "code",
   "execution_count": 8,
   "id": "be431bea",
   "metadata": {},
   "outputs": [
    {
     "data": {
      "text/plain": [
       "account_id         object\n",
       "event_time         object\n",
       "event_type         object\n",
       "product_id          int64\n",
       "additional_data    object\n",
       "dtype: object"
      ]
     },
     "execution_count": 8,
     "metadata": {},
     "output_type": "execute_result"
    }
   ],
   "source": [
    "#Checking the data types\n",
    "subset_df_sorted.dtypes"
   ]
  },
  {
   "cell_type": "code",
   "execution_count": 9,
   "id": "d1f43675",
   "metadata": {},
   "outputs": [
    {
     "data": {
      "text/plain": [
       "account_id             0\n",
       "event_time             0\n",
       "event_type             0\n",
       "product_id             0\n",
       "additional_data    16093\n",
       "dtype: int64"
      ]
     },
     "execution_count": 9,
     "metadata": {},
     "output_type": "execute_result"
    }
   ],
   "source": [
    "#Checking for missing values\n",
    "subset_df_sorted.isnull().sum()"
   ]
  },
  {
   "cell_type": "code",
   "execution_count": 10,
   "id": "a392ad21",
   "metadata": {},
   "outputs": [],
   "source": [
    "#Drop extra columns product id,additional data beause its not needed in the model building\n",
    "subset_df_sorted.drop(['product_id','additional_data'], axis=1, inplace=True)"
   ]
  },
  {
   "cell_type": "code",
   "execution_count": 11,
   "id": "c64dc63d",
   "metadata": {},
   "outputs": [
    {
     "data": {
      "text/html": [
       "<div>\n",
       "<style scoped>\n",
       "    .dataframe tbody tr th:only-of-type {\n",
       "        vertical-align: middle;\n",
       "    }\n",
       "\n",
       "    .dataframe tbody tr th {\n",
       "        vertical-align: top;\n",
       "    }\n",
       "\n",
       "    .dataframe thead th {\n",
       "        text-align: right;\n",
       "    }\n",
       "</style>\n",
       "<table border=\"1\" class=\"dataframe\">\n",
       "  <thead>\n",
       "    <tr style=\"text-align: right;\">\n",
       "      <th></th>\n",
       "      <th>account_id</th>\n",
       "      <th>event_time</th>\n",
       "      <th>event_type</th>\n",
       "    </tr>\n",
       "  </thead>\n",
       "  <tbody>\n",
       "    <tr>\n",
       "      <th>12</th>\n",
       "      <td>8587c95bad699891a6a0cd9e9f7dfbda</td>\n",
       "      <td>2019-11-29 12:14:16.202</td>\n",
       "      <td>ReadingOwnedBook</td>\n",
       "    </tr>\n",
       "    <tr>\n",
       "      <th>27</th>\n",
       "      <td>0970f0bb3ab5479b8a1c5c31945ec379</td>\n",
       "      <td>2019-11-29 12:18:21.168</td>\n",
       "      <td>HighlightCreated</td>\n",
       "    </tr>\n",
       "    <tr>\n",
       "      <th>36</th>\n",
       "      <td>bcb7c13ff9746a60fa8c3e748acd054d</td>\n",
       "      <td>2019-11-29 12:20:34.09</td>\n",
       "      <td>ReadingOwnedBook</td>\n",
       "    </tr>\n",
       "    <tr>\n",
       "      <th>83</th>\n",
       "      <td>4329c5badb1e019b2fca73b69489cf59</td>\n",
       "      <td>2019-11-29 12:29:58.628</td>\n",
       "      <td>ReadingFreePreview</td>\n",
       "    </tr>\n",
       "    <tr>\n",
       "      <th>90</th>\n",
       "      <td>70ff8976a6e249b37a22bf0bc754e5a1</td>\n",
       "      <td>2019-11-29 12:31:07.413</td>\n",
       "      <td>ReadingOwnedBook</td>\n",
       "    </tr>\n",
       "  </tbody>\n",
       "</table>\n",
       "</div>"
      ],
      "text/plain": [
       "                          account_id               event_time          event_type\n",
       "12  8587c95bad699891a6a0cd9e9f7dfbda  2019-11-29 12:14:16.202    ReadingOwnedBook\n",
       "27  0970f0bb3ab5479b8a1c5c31945ec379  2019-11-29 12:18:21.168    HighlightCreated\n",
       "36  bcb7c13ff9746a60fa8c3e748acd054d   2019-11-29 12:20:34.09    ReadingOwnedBook\n",
       "83  4329c5badb1e019b2fca73b69489cf59  2019-11-29 12:29:58.628  ReadingFreePreview\n",
       "90  70ff8976a6e249b37a22bf0bc754e5a1  2019-11-29 12:31:07.413    ReadingOwnedBook"
      ]
     },
     "execution_count": 11,
     "metadata": {},
     "output_type": "execute_result"
    }
   ],
   "source": [
    "#Checking the dataset to see the changes made\n",
    "subset_df_sorted.head()"
   ]
  },
  {
   "cell_type": "code",
   "execution_count": 12,
   "id": "5be9caa1",
   "metadata": {},
   "outputs": [],
   "source": [
    "#Saving the sorted data to csv\n",
    "df.to_csv('subset_df_sorted.csv', index=False)"
   ]
  },
  {
   "cell_type": "code",
   "execution_count": 3,
   "id": "3ee95edc",
   "metadata": {},
   "outputs": [],
   "source": []
  },
  {
   "cell_type": "code",
   "execution_count": 13,
   "id": "bd7ab1ed",
   "metadata": {},
   "outputs": [],
   "source": [
    "#Converting event time to datatime\n",
    "subset_df_sorted['event_time'] = pd.to_datetime(subset_df_sorted['event_time'])"
   ]
  },
  {
   "cell_type": "code",
   "execution_count": 14,
   "id": "18d76ebc",
   "metadata": {},
   "outputs": [],
   "source": [
    "#Feature engineering on event time\n",
    "subset_df_sorted['year'] = subset_df_sorted['event_time'].dt.year\n",
    "subset_df_sorted['month'] = subset_df_sorted['event_time'].dt.month\n",
    "subset_df_sorted['day'] = subset_df_sorted['event_time'].dt.day\n",
    "subset_df_sorted['hour'] = subset_df_sorted['event_time'].dt.hour\n",
    "subset_df_sorted['minute'] = subset_df_sorted['event_time'].dt.minute\n",
    "subset_df_sorted['weekday'] = subset_df_sorted['event_time'].dt.weekday"
   ]
  },
  {
   "cell_type": "code",
   "execution_count": 15,
   "id": "c77a3f0d",
   "metadata": {},
   "outputs": [],
   "source": [
    "#Making the event time the index column\n",
    "subset_df_sorted = subset_df_sorted.set_index('event_time')\n",
    "subset_df_sorted.index = pd.to_datetime(subset_df_sorted.index)"
   ]
  },
  {
   "cell_type": "code",
   "execution_count": 16,
   "id": "91c880cb",
   "metadata": {},
   "outputs": [
    {
     "name": "stdout",
     "output_type": "stream",
     "text": [
      "<class 'pandas.core.frame.DataFrame'>\n",
      "DatetimeIndex: 100000 entries, 2019-11-29 12:14:16.202000 to 2020-06-04 04:19:59.612000\n",
      "Data columns (total 8 columns):\n",
      " #   Column      Non-Null Count   Dtype \n",
      "---  ------      --------------   ----- \n",
      " 0   account_id  100000 non-null  object\n",
      " 1   event_type  100000 non-null  object\n",
      " 2   year        100000 non-null  int64 \n",
      " 3   month       100000 non-null  int64 \n",
      " 4   day         100000 non-null  int64 \n",
      " 5   hour        100000 non-null  int64 \n",
      " 6   minute      100000 non-null  int64 \n",
      " 7   weekday     100000 non-null  int64 \n",
      "dtypes: int64(6), object(2)\n",
      "memory usage: 6.9+ MB\n"
     ]
    }
   ],
   "source": [
    "subset_df_sorted.info()"
   ]
  },
  {
   "cell_type": "code",
   "execution_count": 17,
   "id": "ede54c61",
   "metadata": {},
   "outputs": [
    {
     "data": {
      "text/html": [
       "<div>\n",
       "<style scoped>\n",
       "    .dataframe tbody tr th:only-of-type {\n",
       "        vertical-align: middle;\n",
       "    }\n",
       "\n",
       "    .dataframe tbody tr th {\n",
       "        vertical-align: top;\n",
       "    }\n",
       "\n",
       "    .dataframe thead th {\n",
       "        text-align: right;\n",
       "    }\n",
       "</style>\n",
       "<table border=\"1\" class=\"dataframe\">\n",
       "  <thead>\n",
       "    <tr style=\"text-align: right;\">\n",
       "      <th></th>\n",
       "      <th>account_id</th>\n",
       "      <th>event_type</th>\n",
       "      <th>year</th>\n",
       "      <th>month</th>\n",
       "      <th>day</th>\n",
       "      <th>hour</th>\n",
       "      <th>minute</th>\n",
       "      <th>weekday</th>\n",
       "    </tr>\n",
       "    <tr>\n",
       "      <th>event_time</th>\n",
       "      <th></th>\n",
       "      <th></th>\n",
       "      <th></th>\n",
       "      <th></th>\n",
       "      <th></th>\n",
       "      <th></th>\n",
       "      <th></th>\n",
       "      <th></th>\n",
       "    </tr>\n",
       "  </thead>\n",
       "  <tbody>\n",
       "    <tr>\n",
       "      <th>2019-11-29 12:14:16.202</th>\n",
       "      <td>8587c95bad699891a6a0cd9e9f7dfbda</td>\n",
       "      <td>ReadingOwnedBook</td>\n",
       "      <td>2019</td>\n",
       "      <td>11</td>\n",
       "      <td>29</td>\n",
       "      <td>12</td>\n",
       "      <td>14</td>\n",
       "      <td>4</td>\n",
       "    </tr>\n",
       "    <tr>\n",
       "      <th>2019-11-29 12:18:21.168</th>\n",
       "      <td>0970f0bb3ab5479b8a1c5c31945ec379</td>\n",
       "      <td>HighlightCreated</td>\n",
       "      <td>2019</td>\n",
       "      <td>11</td>\n",
       "      <td>29</td>\n",
       "      <td>12</td>\n",
       "      <td>18</td>\n",
       "      <td>4</td>\n",
       "    </tr>\n",
       "    <tr>\n",
       "      <th>2019-11-29 12:20:34.090</th>\n",
       "      <td>bcb7c13ff9746a60fa8c3e748acd054d</td>\n",
       "      <td>ReadingOwnedBook</td>\n",
       "      <td>2019</td>\n",
       "      <td>11</td>\n",
       "      <td>29</td>\n",
       "      <td>12</td>\n",
       "      <td>20</td>\n",
       "      <td>4</td>\n",
       "    </tr>\n",
       "    <tr>\n",
       "      <th>2019-11-29 12:29:58.628</th>\n",
       "      <td>4329c5badb1e019b2fca73b69489cf59</td>\n",
       "      <td>ReadingFreePreview</td>\n",
       "      <td>2019</td>\n",
       "      <td>11</td>\n",
       "      <td>29</td>\n",
       "      <td>12</td>\n",
       "      <td>29</td>\n",
       "      <td>4</td>\n",
       "    </tr>\n",
       "    <tr>\n",
       "      <th>2019-11-29 12:31:07.413</th>\n",
       "      <td>70ff8976a6e249b37a22bf0bc754e5a1</td>\n",
       "      <td>ReadingOwnedBook</td>\n",
       "      <td>2019</td>\n",
       "      <td>11</td>\n",
       "      <td>29</td>\n",
       "      <td>12</td>\n",
       "      <td>31</td>\n",
       "      <td>4</td>\n",
       "    </tr>\n",
       "  </tbody>\n",
       "</table>\n",
       "</div>"
      ],
      "text/plain": [
       "                                               account_id          event_type  year  month  day  hour  minute  weekday\n",
       "event_time                                                                                                            \n",
       "2019-11-29 12:14:16.202  8587c95bad699891a6a0cd9e9f7dfbda    ReadingOwnedBook  2019     11   29    12      14        4\n",
       "2019-11-29 12:18:21.168  0970f0bb3ab5479b8a1c5c31945ec379    HighlightCreated  2019     11   29    12      18        4\n",
       "2019-11-29 12:20:34.090  bcb7c13ff9746a60fa8c3e748acd054d    ReadingOwnedBook  2019     11   29    12      20        4\n",
       "2019-11-29 12:29:58.628  4329c5badb1e019b2fca73b69489cf59  ReadingFreePreview  2019     11   29    12      29        4\n",
       "2019-11-29 12:31:07.413  70ff8976a6e249b37a22bf0bc754e5a1    ReadingOwnedBook  2019     11   29    12      31        4"
      ]
     },
     "execution_count": 17,
     "metadata": {},
     "output_type": "execute_result"
    }
   ],
   "source": [
    "subset_df_sorted.head()"
   ]
  },
  {
   "cell_type": "code",
   "execution_count": 18,
   "id": "bdb5c8f7",
   "metadata": {},
   "outputs": [
    {
     "name": "stderr",
     "output_type": "stream",
     "text": [
      "C:\\Users\\Administrator\\AppData\\Local\\Temp\\ipykernel_2668\\784431914.py:2: FutureWarning: weekofyear and week have been deprecated, please use DatetimeIndex.isocalendar().week instead, which returns a Series. To exactly reproduce the behavior of week and weekofyear and return an Index, you may call pd.Int64Index(idx.isocalendar().week)\n",
      "  subset_df_sorted['week_of_year'] = subset_df_sorted.index.weekofyear\n"
     ]
    }
   ],
   "source": [
    "#More feature engineering on event time\n",
    "subset_df_sorted['day_of_year'] = subset_df_sorted.index.dayofyear\n",
    "subset_df_sorted['week_of_year'] = subset_df_sorted.index.weekofyear\n",
    "subset_df_sorted['quarter'] = subset_df_sorted.index.quarter\n"
   ]
  },
  {
   "cell_type": "code",
   "execution_count": 19,
   "id": "39c5c9b1",
   "metadata": {},
   "outputs": [
    {
     "data": {
      "text/html": [
       "<div>\n",
       "<style scoped>\n",
       "    .dataframe tbody tr th:only-of-type {\n",
       "        vertical-align: middle;\n",
       "    }\n",
       "\n",
       "    .dataframe tbody tr th {\n",
       "        vertical-align: top;\n",
       "    }\n",
       "\n",
       "    .dataframe thead th {\n",
       "        text-align: right;\n",
       "    }\n",
       "</style>\n",
       "<table border=\"1\" class=\"dataframe\">\n",
       "  <thead>\n",
       "    <tr style=\"text-align: right;\">\n",
       "      <th></th>\n",
       "      <th>account_id</th>\n",
       "      <th>event_type</th>\n",
       "      <th>year</th>\n",
       "      <th>month</th>\n",
       "      <th>day</th>\n",
       "      <th>hour</th>\n",
       "      <th>minute</th>\n",
       "      <th>weekday</th>\n",
       "      <th>day_of_year</th>\n",
       "      <th>week_of_year</th>\n",
       "      <th>quarter</th>\n",
       "    </tr>\n",
       "    <tr>\n",
       "      <th>event_time</th>\n",
       "      <th></th>\n",
       "      <th></th>\n",
       "      <th></th>\n",
       "      <th></th>\n",
       "      <th></th>\n",
       "      <th></th>\n",
       "      <th></th>\n",
       "      <th></th>\n",
       "      <th></th>\n",
       "      <th></th>\n",
       "      <th></th>\n",
       "    </tr>\n",
       "  </thead>\n",
       "  <tbody>\n",
       "    <tr>\n",
       "      <th>2019-11-29 12:14:16.202</th>\n",
       "      <td>8587c95bad699891a6a0cd9e9f7dfbda</td>\n",
       "      <td>ReadingOwnedBook</td>\n",
       "      <td>2019</td>\n",
       "      <td>11</td>\n",
       "      <td>29</td>\n",
       "      <td>12</td>\n",
       "      <td>14</td>\n",
       "      <td>4</td>\n",
       "      <td>333</td>\n",
       "      <td>48</td>\n",
       "      <td>4</td>\n",
       "    </tr>\n",
       "    <tr>\n",
       "      <th>2019-11-29 12:18:21.168</th>\n",
       "      <td>0970f0bb3ab5479b8a1c5c31945ec379</td>\n",
       "      <td>HighlightCreated</td>\n",
       "      <td>2019</td>\n",
       "      <td>11</td>\n",
       "      <td>29</td>\n",
       "      <td>12</td>\n",
       "      <td>18</td>\n",
       "      <td>4</td>\n",
       "      <td>333</td>\n",
       "      <td>48</td>\n",
       "      <td>4</td>\n",
       "    </tr>\n",
       "    <tr>\n",
       "      <th>2019-11-29 12:20:34.090</th>\n",
       "      <td>bcb7c13ff9746a60fa8c3e748acd054d</td>\n",
       "      <td>ReadingOwnedBook</td>\n",
       "      <td>2019</td>\n",
       "      <td>11</td>\n",
       "      <td>29</td>\n",
       "      <td>12</td>\n",
       "      <td>20</td>\n",
       "      <td>4</td>\n",
       "      <td>333</td>\n",
       "      <td>48</td>\n",
       "      <td>4</td>\n",
       "    </tr>\n",
       "    <tr>\n",
       "      <th>2019-11-29 12:29:58.628</th>\n",
       "      <td>4329c5badb1e019b2fca73b69489cf59</td>\n",
       "      <td>ReadingFreePreview</td>\n",
       "      <td>2019</td>\n",
       "      <td>11</td>\n",
       "      <td>29</td>\n",
       "      <td>12</td>\n",
       "      <td>29</td>\n",
       "      <td>4</td>\n",
       "      <td>333</td>\n",
       "      <td>48</td>\n",
       "      <td>4</td>\n",
       "    </tr>\n",
       "    <tr>\n",
       "      <th>2019-11-29 12:31:07.413</th>\n",
       "      <td>70ff8976a6e249b37a22bf0bc754e5a1</td>\n",
       "      <td>ReadingOwnedBook</td>\n",
       "      <td>2019</td>\n",
       "      <td>11</td>\n",
       "      <td>29</td>\n",
       "      <td>12</td>\n",
       "      <td>31</td>\n",
       "      <td>4</td>\n",
       "      <td>333</td>\n",
       "      <td>48</td>\n",
       "      <td>4</td>\n",
       "    </tr>\n",
       "  </tbody>\n",
       "</table>\n",
       "</div>"
      ],
      "text/plain": [
       "                                               account_id          event_type  year  month  day  hour  minute  weekday  day_of_year  week_of_year  quarter\n",
       "event_time                                                                                                                                                \n",
       "2019-11-29 12:14:16.202  8587c95bad699891a6a0cd9e9f7dfbda    ReadingOwnedBook  2019     11   29    12      14        4          333            48        4\n",
       "2019-11-29 12:18:21.168  0970f0bb3ab5479b8a1c5c31945ec379    HighlightCreated  2019     11   29    12      18        4          333            48        4\n",
       "2019-11-29 12:20:34.090  bcb7c13ff9746a60fa8c3e748acd054d    ReadingOwnedBook  2019     11   29    12      20        4          333            48        4\n",
       "2019-11-29 12:29:58.628  4329c5badb1e019b2fca73b69489cf59  ReadingFreePreview  2019     11   29    12      29        4          333            48        4\n",
       "2019-11-29 12:31:07.413  70ff8976a6e249b37a22bf0bc754e5a1    ReadingOwnedBook  2019     11   29    12      31        4          333            48        4"
      ]
     },
     "execution_count": 19,
     "metadata": {},
     "output_type": "execute_result"
    }
   ],
   "source": [
    "subset_df_sorted.head()"
   ]
  },
  {
   "cell_type": "code",
   "execution_count": 20,
   "id": "1495ecba",
   "metadata": {},
   "outputs": [
    {
     "name": "stdout",
     "output_type": "stream",
     "text": [
      "<class 'pandas.core.frame.DataFrame'>\n",
      "DatetimeIndex: 100000 entries, 2019-11-29 12:14:16.202000 to 2020-06-04 04:19:59.612000\n",
      "Data columns (total 11 columns):\n",
      " #   Column        Non-Null Count   Dtype \n",
      "---  ------        --------------   ----- \n",
      " 0   account_id    100000 non-null  object\n",
      " 1   event_type    100000 non-null  object\n",
      " 2   year          100000 non-null  int64 \n",
      " 3   month         100000 non-null  int64 \n",
      " 4   day           100000 non-null  int64 \n",
      " 5   hour          100000 non-null  int64 \n",
      " 6   minute        100000 non-null  int64 \n",
      " 7   weekday       100000 non-null  int64 \n",
      " 8   day_of_year   100000 non-null  int64 \n",
      " 9   week_of_year  100000 non-null  int64 \n",
      " 10  quarter       100000 non-null  int64 \n",
      "dtypes: int64(9), object(2)\n",
      "memory usage: 9.2+ MB\n"
     ]
    }
   ],
   "source": [
    "subset_df_sorted.info()"
   ]
  },
  {
   "cell_type": "code",
   "execution_count": 21,
   "id": "1701f123",
   "metadata": {},
   "outputs": [],
   "source": [
    "#Importing library to split the dataset in to train and test \n",
    "from sklearn.model_selection import train_test_split"
   ]
  },
  {
   "cell_type": "code",
   "execution_count": 22,
   "id": "71a7e226",
   "metadata": {},
   "outputs": [],
   "source": [
    "#Function to split the data into test and train\n",
    "train,test = train_test_split(\n",
    "    subset_df_sorted, test_size=0.2, \n",
    "    random_state=123)"
   ]
  },
  {
   "cell_type": "code",
   "execution_count": 23,
   "id": "6a5a2729",
   "metadata": {},
   "outputs": [
    {
     "data": {
      "text/html": [
       "<div>\n",
       "<style scoped>\n",
       "    .dataframe tbody tr th:only-of-type {\n",
       "        vertical-align: middle;\n",
       "    }\n",
       "\n",
       "    .dataframe tbody tr th {\n",
       "        vertical-align: top;\n",
       "    }\n",
       "\n",
       "    .dataframe thead th {\n",
       "        text-align: right;\n",
       "    }\n",
       "</style>\n",
       "<table border=\"1\" class=\"dataframe\">\n",
       "  <thead>\n",
       "    <tr style=\"text-align: right;\">\n",
       "      <th></th>\n",
       "      <th>account_id</th>\n",
       "      <th>event_type</th>\n",
       "      <th>year</th>\n",
       "      <th>month</th>\n",
       "      <th>day</th>\n",
       "      <th>hour</th>\n",
       "      <th>minute</th>\n",
       "      <th>weekday</th>\n",
       "      <th>day_of_year</th>\n",
       "      <th>week_of_year</th>\n",
       "      <th>quarter</th>\n",
       "    </tr>\n",
       "  </thead>\n",
       "  <tbody>\n",
       "    <tr>\n",
       "      <th>0</th>\n",
       "      <td>eba0a3d8a5af756c8857d7d47bb80f42</td>\n",
       "      <td>CrossReferenceTermOpened</td>\n",
       "      <td>2020</td>\n",
       "      <td>2</td>\n",
       "      <td>18</td>\n",
       "      <td>14</td>\n",
       "      <td>36</td>\n",
       "      <td>1</td>\n",
       "      <td>49</td>\n",
       "      <td>8</td>\n",
       "      <td>1</td>\n",
       "    </tr>\n",
       "    <tr>\n",
       "      <th>1</th>\n",
       "      <td>6b63cbaf0088a193bb53249bdc74e6f9</td>\n",
       "      <td>ProductTocLivebookLinkOpened</td>\n",
       "      <td>2020</td>\n",
       "      <td>4</td>\n",
       "      <td>8</td>\n",
       "      <td>11</td>\n",
       "      <td>42</td>\n",
       "      <td>2</td>\n",
       "      <td>99</td>\n",
       "      <td>15</td>\n",
       "      <td>2</td>\n",
       "    </tr>\n",
       "    <tr>\n",
       "      <th>2</th>\n",
       "      <td>6bb61e3b7bce0931da574d19d1d82c88</td>\n",
       "      <td>FirstLivebookAccess</td>\n",
       "      <td>2020</td>\n",
       "      <td>5</td>\n",
       "      <td>21</td>\n",
       "      <td>10</td>\n",
       "      <td>32</td>\n",
       "      <td>3</td>\n",
       "      <td>142</td>\n",
       "      <td>21</td>\n",
       "      <td>2</td>\n",
       "    </tr>\n",
       "    <tr>\n",
       "      <th>3</th>\n",
       "      <td>6bb61e3b7bce0931da574d19d1d82c88</td>\n",
       "      <td>FirstLivebookAccess</td>\n",
       "      <td>2020</td>\n",
       "      <td>5</td>\n",
       "      <td>30</td>\n",
       "      <td>5</td>\n",
       "      <td>6</td>\n",
       "      <td>5</td>\n",
       "      <td>151</td>\n",
       "      <td>22</td>\n",
       "      <td>2</td>\n",
       "    </tr>\n",
       "    <tr>\n",
       "      <th>4</th>\n",
       "      <td>68cba807d8539682f31cb3028c748a7e</td>\n",
       "      <td>ReadingOwnedBook</td>\n",
       "      <td>2020</td>\n",
       "      <td>1</td>\n",
       "      <td>31</td>\n",
       "      <td>21</td>\n",
       "      <td>6</td>\n",
       "      <td>4</td>\n",
       "      <td>31</td>\n",
       "      <td>5</td>\n",
       "      <td>1</td>\n",
       "    </tr>\n",
       "    <tr>\n",
       "      <th>...</th>\n",
       "      <td>...</td>\n",
       "      <td>...</td>\n",
       "      <td>...</td>\n",
       "      <td>...</td>\n",
       "      <td>...</td>\n",
       "      <td>...</td>\n",
       "      <td>...</td>\n",
       "      <td>...</td>\n",
       "      <td>...</td>\n",
       "      <td>...</td>\n",
       "      <td>...</td>\n",
       "    </tr>\n",
       "    <tr>\n",
       "      <th>79995</th>\n",
       "      <td>6bb61e3b7bce0931da574d19d1d82c88</td>\n",
       "      <td>FirstLivebookAccess</td>\n",
       "      <td>2020</td>\n",
       "      <td>4</td>\n",
       "      <td>21</td>\n",
       "      <td>21</td>\n",
       "      <td>57</td>\n",
       "      <td>1</td>\n",
       "      <td>112</td>\n",
       "      <td>17</td>\n",
       "      <td>2</td>\n",
       "    </tr>\n",
       "    <tr>\n",
       "      <th>79996</th>\n",
       "      <td>6bb61e3b7bce0931da574d19d1d82c88</td>\n",
       "      <td>FirstManningAccess</td>\n",
       "      <td>2020</td>\n",
       "      <td>4</td>\n",
       "      <td>20</td>\n",
       "      <td>7</td>\n",
       "      <td>39</td>\n",
       "      <td>0</td>\n",
       "      <td>111</td>\n",
       "      <td>17</td>\n",
       "      <td>2</td>\n",
       "    </tr>\n",
       "    <tr>\n",
       "      <th>79997</th>\n",
       "      <td>bdeaec4c751e62b0312b5de6acdcf8b7</td>\n",
       "      <td>ReadingOwnedBook</td>\n",
       "      <td>2020</td>\n",
       "      <td>2</td>\n",
       "      <td>1</td>\n",
       "      <td>18</td>\n",
       "      <td>53</td>\n",
       "      <td>5</td>\n",
       "      <td>32</td>\n",
       "      <td>5</td>\n",
       "      <td>1</td>\n",
       "    </tr>\n",
       "    <tr>\n",
       "      <th>79998</th>\n",
       "      <td>f8010086540e8f460cb48b8f62f59f3e</td>\n",
       "      <td>ReadingOwnedBook</td>\n",
       "      <td>2020</td>\n",
       "      <td>3</td>\n",
       "      <td>9</td>\n",
       "      <td>14</td>\n",
       "      <td>44</td>\n",
       "      <td>0</td>\n",
       "      <td>69</td>\n",
       "      <td>11</td>\n",
       "      <td>1</td>\n",
       "    </tr>\n",
       "    <tr>\n",
       "      <th>79999</th>\n",
       "      <td>83b0c05d2a52143480cc1b4efe176d21</td>\n",
       "      <td>ReadingOwnedBook</td>\n",
       "      <td>2020</td>\n",
       "      <td>1</td>\n",
       "      <td>24</td>\n",
       "      <td>14</td>\n",
       "      <td>10</td>\n",
       "      <td>4</td>\n",
       "      <td>24</td>\n",
       "      <td>4</td>\n",
       "      <td>1</td>\n",
       "    </tr>\n",
       "  </tbody>\n",
       "</table>\n",
       "<p>80000 rows × 11 columns</p>\n",
       "</div>"
      ],
      "text/plain": [
       "                             account_id                    event_type  year  month  day  hour  minute  weekday  day_of_year  week_of_year  quarter\n",
       "0      eba0a3d8a5af756c8857d7d47bb80f42      CrossReferenceTermOpened  2020      2   18    14      36        1           49             8        1\n",
       "1      6b63cbaf0088a193bb53249bdc74e6f9  ProductTocLivebookLinkOpened  2020      4    8    11      42        2           99            15        2\n",
       "2      6bb61e3b7bce0931da574d19d1d82c88           FirstLivebookAccess  2020      5   21    10      32        3          142            21        2\n",
       "3      6bb61e3b7bce0931da574d19d1d82c88           FirstLivebookAccess  2020      5   30     5       6        5          151            22        2\n",
       "4      68cba807d8539682f31cb3028c748a7e              ReadingOwnedBook  2020      1   31    21       6        4           31             5        1\n",
       "...                                 ...                           ...   ...    ...  ...   ...     ...      ...          ...           ...      ...\n",
       "79995  6bb61e3b7bce0931da574d19d1d82c88           FirstLivebookAccess  2020      4   21    21      57        1          112            17        2\n",
       "79996  6bb61e3b7bce0931da574d19d1d82c88            FirstManningAccess  2020      4   20     7      39        0          111            17        2\n",
       "79997  bdeaec4c751e62b0312b5de6acdcf8b7              ReadingOwnedBook  2020      2    1    18      53        5           32             5        1\n",
       "79998  f8010086540e8f460cb48b8f62f59f3e              ReadingOwnedBook  2020      3    9    14      44        0           69            11        1\n",
       "79999  83b0c05d2a52143480cc1b4efe176d21              ReadingOwnedBook  2020      1   24    14      10        4           24             4        1\n",
       "\n",
       "[80000 rows x 11 columns]"
      ]
     },
     "execution_count": 23,
     "metadata": {},
     "output_type": "execute_result"
    }
   ],
   "source": [
    "#Checking the train split data\n",
    "train.reset_index(drop=True, inplace = True)\n",
    "train"
   ]
  },
  {
   "cell_type": "code",
   "execution_count": 24,
   "id": "cae2bcc2",
   "metadata": {},
   "outputs": [
    {
     "data": {
      "text/html": [
       "<div>\n",
       "<style scoped>\n",
       "    .dataframe tbody tr th:only-of-type {\n",
       "        vertical-align: middle;\n",
       "    }\n",
       "\n",
       "    .dataframe tbody tr th {\n",
       "        vertical-align: top;\n",
       "    }\n",
       "\n",
       "    .dataframe thead th {\n",
       "        text-align: right;\n",
       "    }\n",
       "</style>\n",
       "<table border=\"1\" class=\"dataframe\">\n",
       "  <thead>\n",
       "    <tr style=\"text-align: right;\">\n",
       "      <th></th>\n",
       "      <th>account_id</th>\n",
       "      <th>event_type</th>\n",
       "      <th>year</th>\n",
       "      <th>month</th>\n",
       "      <th>day</th>\n",
       "      <th>hour</th>\n",
       "      <th>minute</th>\n",
       "      <th>weekday</th>\n",
       "      <th>day_of_year</th>\n",
       "      <th>week_of_year</th>\n",
       "      <th>quarter</th>\n",
       "    </tr>\n",
       "  </thead>\n",
       "  <tbody>\n",
       "    <tr>\n",
       "      <th>0</th>\n",
       "      <td>de3c528c39a0c5e1645b59a7c27888c6</td>\n",
       "      <td>LivebookLogin</td>\n",
       "      <td>2020</td>\n",
       "      <td>3</td>\n",
       "      <td>30</td>\n",
       "      <td>13</td>\n",
       "      <td>40</td>\n",
       "      <td>0</td>\n",
       "      <td>90</td>\n",
       "      <td>14</td>\n",
       "      <td>1</td>\n",
       "    </tr>\n",
       "    <tr>\n",
       "      <th>1</th>\n",
       "      <td>6bb61e3b7bce0931da574d19d1d82c88</td>\n",
       "      <td>FirstLivebookAccess</td>\n",
       "      <td>2020</td>\n",
       "      <td>4</td>\n",
       "      <td>30</td>\n",
       "      <td>13</td>\n",
       "      <td>4</td>\n",
       "      <td>3</td>\n",
       "      <td>121</td>\n",
       "      <td>18</td>\n",
       "      <td>2</td>\n",
       "    </tr>\n",
       "    <tr>\n",
       "      <th>2</th>\n",
       "      <td>6bb61e3b7bce0931da574d19d1d82c88</td>\n",
       "      <td>FirstLivebookAccess</td>\n",
       "      <td>2020</td>\n",
       "      <td>6</td>\n",
       "      <td>3</td>\n",
       "      <td>13</td>\n",
       "      <td>24</td>\n",
       "      <td>2</td>\n",
       "      <td>155</td>\n",
       "      <td>23</td>\n",
       "      <td>2</td>\n",
       "    </tr>\n",
       "    <tr>\n",
       "      <th>3</th>\n",
       "      <td>6bb61e3b7bce0931da574d19d1d82c88</td>\n",
       "      <td>FirstLivebookAccess</td>\n",
       "      <td>2020</td>\n",
       "      <td>4</td>\n",
       "      <td>6</td>\n",
       "      <td>13</td>\n",
       "      <td>35</td>\n",
       "      <td>0</td>\n",
       "      <td>97</td>\n",
       "      <td>15</td>\n",
       "      <td>2</td>\n",
       "    </tr>\n",
       "    <tr>\n",
       "      <th>4</th>\n",
       "      <td>6bb61e3b7bce0931da574d19d1d82c88</td>\n",
       "      <td>FirstManningAccess</td>\n",
       "      <td>2020</td>\n",
       "      <td>3</td>\n",
       "      <td>23</td>\n",
       "      <td>18</td>\n",
       "      <td>44</td>\n",
       "      <td>0</td>\n",
       "      <td>83</td>\n",
       "      <td>13</td>\n",
       "      <td>1</td>\n",
       "    </tr>\n",
       "    <tr>\n",
       "      <th>...</th>\n",
       "      <td>...</td>\n",
       "      <td>...</td>\n",
       "      <td>...</td>\n",
       "      <td>...</td>\n",
       "      <td>...</td>\n",
       "      <td>...</td>\n",
       "      <td>...</td>\n",
       "      <td>...</td>\n",
       "      <td>...</td>\n",
       "      <td>...</td>\n",
       "      <td>...</td>\n",
       "    </tr>\n",
       "    <tr>\n",
       "      <th>19995</th>\n",
       "      <td>df97b6a8e55202a60b033f01bd095c99</td>\n",
       "      <td>HighlightCreated</td>\n",
       "      <td>2020</td>\n",
       "      <td>5</td>\n",
       "      <td>27</td>\n",
       "      <td>4</td>\n",
       "      <td>28</td>\n",
       "      <td>2</td>\n",
       "      <td>148</td>\n",
       "      <td>22</td>\n",
       "      <td>2</td>\n",
       "    </tr>\n",
       "    <tr>\n",
       "      <th>19996</th>\n",
       "      <td>6bb61e3b7bce0931da574d19d1d82c88</td>\n",
       "      <td>FirstLivebookAccess</td>\n",
       "      <td>2020</td>\n",
       "      <td>3</td>\n",
       "      <td>30</td>\n",
       "      <td>12</td>\n",
       "      <td>27</td>\n",
       "      <td>0</td>\n",
       "      <td>90</td>\n",
       "      <td>14</td>\n",
       "      <td>1</td>\n",
       "    </tr>\n",
       "    <tr>\n",
       "      <th>19997</th>\n",
       "      <td>8bd40749a81c3fe5d6f1c74aa4cebc17</td>\n",
       "      <td>ReadingOwnedBook</td>\n",
       "      <td>2020</td>\n",
       "      <td>3</td>\n",
       "      <td>20</td>\n",
       "      <td>22</td>\n",
       "      <td>51</td>\n",
       "      <td>4</td>\n",
       "      <td>80</td>\n",
       "      <td>12</td>\n",
       "      <td>1</td>\n",
       "    </tr>\n",
       "    <tr>\n",
       "      <th>19998</th>\n",
       "      <td>53c04118df112c13a8c34b38343b9c10</td>\n",
       "      <td>ReadingOwnedBook</td>\n",
       "      <td>2020</td>\n",
       "      <td>3</td>\n",
       "      <td>30</td>\n",
       "      <td>15</td>\n",
       "      <td>55</td>\n",
       "      <td>0</td>\n",
       "      <td>90</td>\n",
       "      <td>14</td>\n",
       "      <td>1</td>\n",
       "    </tr>\n",
       "    <tr>\n",
       "      <th>19999</th>\n",
       "      <td>6bb61e3b7bce0931da574d19d1d82c88</td>\n",
       "      <td>FirstLivebookAccess</td>\n",
       "      <td>2020</td>\n",
       "      <td>4</td>\n",
       "      <td>9</td>\n",
       "      <td>19</td>\n",
       "      <td>5</td>\n",
       "      <td>3</td>\n",
       "      <td>100</td>\n",
       "      <td>15</td>\n",
       "      <td>2</td>\n",
       "    </tr>\n",
       "  </tbody>\n",
       "</table>\n",
       "<p>20000 rows × 11 columns</p>\n",
       "</div>"
      ],
      "text/plain": [
       "                             account_id           event_type  year  month  day  hour  minute  weekday  day_of_year  week_of_year  quarter\n",
       "0      de3c528c39a0c5e1645b59a7c27888c6        LivebookLogin  2020      3   30    13      40        0           90            14        1\n",
       "1      6bb61e3b7bce0931da574d19d1d82c88  FirstLivebookAccess  2020      4   30    13       4        3          121            18        2\n",
       "2      6bb61e3b7bce0931da574d19d1d82c88  FirstLivebookAccess  2020      6    3    13      24        2          155            23        2\n",
       "3      6bb61e3b7bce0931da574d19d1d82c88  FirstLivebookAccess  2020      4    6    13      35        0           97            15        2\n",
       "4      6bb61e3b7bce0931da574d19d1d82c88   FirstManningAccess  2020      3   23    18      44        0           83            13        1\n",
       "...                                 ...                  ...   ...    ...  ...   ...     ...      ...          ...           ...      ...\n",
       "19995  df97b6a8e55202a60b033f01bd095c99     HighlightCreated  2020      5   27     4      28        2          148            22        2\n",
       "19996  6bb61e3b7bce0931da574d19d1d82c88  FirstLivebookAccess  2020      3   30    12      27        0           90            14        1\n",
       "19997  8bd40749a81c3fe5d6f1c74aa4cebc17     ReadingOwnedBook  2020      3   20    22      51        4           80            12        1\n",
       "19998  53c04118df112c13a8c34b38343b9c10     ReadingOwnedBook  2020      3   30    15      55        0           90            14        1\n",
       "19999  6bb61e3b7bce0931da574d19d1d82c88  FirstLivebookAccess  2020      4    9    19       5        3          100            15        2\n",
       "\n",
       "[20000 rows x 11 columns]"
      ]
     },
     "execution_count": 24,
     "metadata": {},
     "output_type": "execute_result"
    }
   ],
   "source": [
    "#Checking the test split data\n",
    "test.reset_index(drop=True, inplace = True)\n",
    "test"
   ]
  },
  {
   "cell_type": "code",
   "execution_count": 25,
   "id": "e69ff53c",
   "metadata": {},
   "outputs": [],
   "source": [
    "#Importing library to do encoding on the event type column\n",
    "#Using both label encoding\n",
    "from sklearn.preprocessing import LabelEncoder"
   ]
  },
  {
   "cell_type": "code",
   "execution_count": 26,
   "id": "26df4f4d",
   "metadata": {},
   "outputs": [],
   "source": [
    "#Writing code for label encoding for the event type\n",
    "le = LabelEncoder()\n",
    "train['event_type_encoded'] = le.fit_transform(train['event_type'])\n"
   ]
  },
  {
   "cell_type": "code",
   "execution_count": 27,
   "id": "2d352737",
   "metadata": {},
   "outputs": [
    {
     "data": {
      "text/html": [
       "<div>\n",
       "<style scoped>\n",
       "    .dataframe tbody tr th:only-of-type {\n",
       "        vertical-align: middle;\n",
       "    }\n",
       "\n",
       "    .dataframe tbody tr th {\n",
       "        vertical-align: top;\n",
       "    }\n",
       "\n",
       "    .dataframe thead th {\n",
       "        text-align: right;\n",
       "    }\n",
       "</style>\n",
       "<table border=\"1\" class=\"dataframe\">\n",
       "  <thead>\n",
       "    <tr style=\"text-align: right;\">\n",
       "      <th></th>\n",
       "      <th>account_id</th>\n",
       "      <th>event_type</th>\n",
       "      <th>year</th>\n",
       "      <th>month</th>\n",
       "      <th>day</th>\n",
       "      <th>hour</th>\n",
       "      <th>minute</th>\n",
       "      <th>weekday</th>\n",
       "      <th>day_of_year</th>\n",
       "      <th>week_of_year</th>\n",
       "      <th>quarter</th>\n",
       "      <th>event_type_encoded</th>\n",
       "    </tr>\n",
       "  </thead>\n",
       "  <tbody>\n",
       "    <tr>\n",
       "      <th>0</th>\n",
       "      <td>eba0a3d8a5af756c8857d7d47bb80f42</td>\n",
       "      <td>CrossReferenceTermOpened</td>\n",
       "      <td>2020</td>\n",
       "      <td>2</td>\n",
       "      <td>18</td>\n",
       "      <td>14</td>\n",
       "      <td>36</td>\n",
       "      <td>1</td>\n",
       "      <td>49</td>\n",
       "      <td>8</td>\n",
       "      <td>1</td>\n",
       "      <td>3</td>\n",
       "    </tr>\n",
       "    <tr>\n",
       "      <th>1</th>\n",
       "      <td>6b63cbaf0088a193bb53249bdc74e6f9</td>\n",
       "      <td>ProductTocLivebookLinkOpened</td>\n",
       "      <td>2020</td>\n",
       "      <td>4</td>\n",
       "      <td>8</td>\n",
       "      <td>11</td>\n",
       "      <td>42</td>\n",
       "      <td>2</td>\n",
       "      <td>99</td>\n",
       "      <td>15</td>\n",
       "      <td>2</td>\n",
       "      <td>21</td>\n",
       "    </tr>\n",
       "    <tr>\n",
       "      <th>2</th>\n",
       "      <td>6bb61e3b7bce0931da574d19d1d82c88</td>\n",
       "      <td>FirstLivebookAccess</td>\n",
       "      <td>2020</td>\n",
       "      <td>5</td>\n",
       "      <td>21</td>\n",
       "      <td>10</td>\n",
       "      <td>32</td>\n",
       "      <td>3</td>\n",
       "      <td>142</td>\n",
       "      <td>21</td>\n",
       "      <td>2</td>\n",
       "      <td>8</td>\n",
       "    </tr>\n",
       "    <tr>\n",
       "      <th>3</th>\n",
       "      <td>6bb61e3b7bce0931da574d19d1d82c88</td>\n",
       "      <td>FirstLivebookAccess</td>\n",
       "      <td>2020</td>\n",
       "      <td>5</td>\n",
       "      <td>30</td>\n",
       "      <td>5</td>\n",
       "      <td>6</td>\n",
       "      <td>5</td>\n",
       "      <td>151</td>\n",
       "      <td>22</td>\n",
       "      <td>2</td>\n",
       "      <td>8</td>\n",
       "    </tr>\n",
       "    <tr>\n",
       "      <th>4</th>\n",
       "      <td>68cba807d8539682f31cb3028c748a7e</td>\n",
       "      <td>ReadingOwnedBook</td>\n",
       "      <td>2020</td>\n",
       "      <td>1</td>\n",
       "      <td>31</td>\n",
       "      <td>21</td>\n",
       "      <td>6</td>\n",
       "      <td>4</td>\n",
       "      <td>31</td>\n",
       "      <td>5</td>\n",
       "      <td>1</td>\n",
       "      <td>24</td>\n",
       "    </tr>\n",
       "  </tbody>\n",
       "</table>\n",
       "</div>"
      ],
      "text/plain": [
       "                         account_id                    event_type  year  month  day  hour  minute  weekday  day_of_year  week_of_year  quarter  event_type_encoded\n",
       "0  eba0a3d8a5af756c8857d7d47bb80f42      CrossReferenceTermOpened  2020      2   18    14      36        1           49             8        1                   3\n",
       "1  6b63cbaf0088a193bb53249bdc74e6f9  ProductTocLivebookLinkOpened  2020      4    8    11      42        2           99            15        2                  21\n",
       "2  6bb61e3b7bce0931da574d19d1d82c88           FirstLivebookAccess  2020      5   21    10      32        3          142            21        2                   8\n",
       "3  6bb61e3b7bce0931da574d19d1d82c88           FirstLivebookAccess  2020      5   30     5       6        5          151            22        2                   8\n",
       "4  68cba807d8539682f31cb3028c748a7e              ReadingOwnedBook  2020      1   31    21       6        4           31             5        1                  24"
      ]
     },
     "execution_count": 27,
     "metadata": {},
     "output_type": "execute_result"
    }
   ],
   "source": [
    "train.head()"
   ]
  },
  {
   "cell_type": "code",
   "execution_count": 28,
   "id": "7f2100f6",
   "metadata": {},
   "outputs": [],
   "source": [
    "#Dropping the extra columns not needed\n",
    "train.drop(['account_id', 'event_type'], axis=1, inplace=True)"
   ]
  },
  {
   "cell_type": "code",
   "execution_count": 29,
   "id": "a44c2ad9",
   "metadata": {},
   "outputs": [
    {
     "data": {
      "text/html": [
       "<div>\n",
       "<style scoped>\n",
       "    .dataframe tbody tr th:only-of-type {\n",
       "        vertical-align: middle;\n",
       "    }\n",
       "\n",
       "    .dataframe tbody tr th {\n",
       "        vertical-align: top;\n",
       "    }\n",
       "\n",
       "    .dataframe thead th {\n",
       "        text-align: right;\n",
       "    }\n",
       "</style>\n",
       "<table border=\"1\" class=\"dataframe\">\n",
       "  <thead>\n",
       "    <tr style=\"text-align: right;\">\n",
       "      <th></th>\n",
       "      <th>year</th>\n",
       "      <th>month</th>\n",
       "      <th>day</th>\n",
       "      <th>hour</th>\n",
       "      <th>minute</th>\n",
       "      <th>weekday</th>\n",
       "      <th>day_of_year</th>\n",
       "      <th>week_of_year</th>\n",
       "      <th>quarter</th>\n",
       "      <th>event_type_encoded</th>\n",
       "    </tr>\n",
       "  </thead>\n",
       "  <tbody>\n",
       "    <tr>\n",
       "      <th>0</th>\n",
       "      <td>2020</td>\n",
       "      <td>2</td>\n",
       "      <td>18</td>\n",
       "      <td>14</td>\n",
       "      <td>36</td>\n",
       "      <td>1</td>\n",
       "      <td>49</td>\n",
       "      <td>8</td>\n",
       "      <td>1</td>\n",
       "      <td>3</td>\n",
       "    </tr>\n",
       "    <tr>\n",
       "      <th>1</th>\n",
       "      <td>2020</td>\n",
       "      <td>4</td>\n",
       "      <td>8</td>\n",
       "      <td>11</td>\n",
       "      <td>42</td>\n",
       "      <td>2</td>\n",
       "      <td>99</td>\n",
       "      <td>15</td>\n",
       "      <td>2</td>\n",
       "      <td>21</td>\n",
       "    </tr>\n",
       "    <tr>\n",
       "      <th>2</th>\n",
       "      <td>2020</td>\n",
       "      <td>5</td>\n",
       "      <td>21</td>\n",
       "      <td>10</td>\n",
       "      <td>32</td>\n",
       "      <td>3</td>\n",
       "      <td>142</td>\n",
       "      <td>21</td>\n",
       "      <td>2</td>\n",
       "      <td>8</td>\n",
       "    </tr>\n",
       "    <tr>\n",
       "      <th>3</th>\n",
       "      <td>2020</td>\n",
       "      <td>5</td>\n",
       "      <td>30</td>\n",
       "      <td>5</td>\n",
       "      <td>6</td>\n",
       "      <td>5</td>\n",
       "      <td>151</td>\n",
       "      <td>22</td>\n",
       "      <td>2</td>\n",
       "      <td>8</td>\n",
       "    </tr>\n",
       "    <tr>\n",
       "      <th>4</th>\n",
       "      <td>2020</td>\n",
       "      <td>1</td>\n",
       "      <td>31</td>\n",
       "      <td>21</td>\n",
       "      <td>6</td>\n",
       "      <td>4</td>\n",
       "      <td>31</td>\n",
       "      <td>5</td>\n",
       "      <td>1</td>\n",
       "      <td>24</td>\n",
       "    </tr>\n",
       "  </tbody>\n",
       "</table>\n",
       "</div>"
      ],
      "text/plain": [
       "   year  month  day  hour  minute  weekday  day_of_year  week_of_year  quarter  event_type_encoded\n",
       "0  2020      2   18    14      36        1           49             8        1                   3\n",
       "1  2020      4    8    11      42        2           99            15        2                  21\n",
       "2  2020      5   21    10      32        3          142            21        2                   8\n",
       "3  2020      5   30     5       6        5          151            22        2                   8\n",
       "4  2020      1   31    21       6        4           31             5        1                  24"
      ]
     },
     "execution_count": 29,
     "metadata": {},
     "output_type": "execute_result"
    }
   ],
   "source": [
    "train.head()"
   ]
  },
  {
   "cell_type": "code",
   "execution_count": 30,
   "id": "fdd6f845",
   "metadata": {},
   "outputs": [],
   "source": [
    "# Defining function to remove outliers\n",
    "def drop_outlier(data,var):\n",
    "    q1, q3 = np.percentile(data[var], [25, 75])\n",
    "    iqr = q3 - q1\n",
    "    lower = q1 - 1.5*iqr\n",
    "    upper = q3 + 1.5*iqr\n",
    "    data = data[data[var]< upper]\n",
    "    data = data[data[var]> lower]\n",
    "    data.reset_index(drop=True, inplace = True)\n",
    "    return data"
   ]
  },
  {
   "cell_type": "code",
   "execution_count": 31,
   "id": "f79e971b",
   "metadata": {},
   "outputs": [],
   "source": [
    "#Drop outliers in day of year and day\n",
    "train = drop_outlier(train,'day_of_year')\n",
    "train = drop_outlier(train,'day')"
   ]
  },
  {
   "cell_type": "code",
   "execution_count": 32,
   "id": "88c6240f",
   "metadata": {},
   "outputs": [
    {
     "data": {
      "text/plain": [
       "{'whiskers': [<matplotlib.lines.Line2D at 0x17f803c5b80>,\n",
       "  <matplotlib.lines.Line2D at 0x17f803c5e80>],\n",
       " 'caps': [<matplotlib.lines.Line2D at 0x17f804c6190>,\n",
       "  <matplotlib.lines.Line2D at 0x17f804c6460>],\n",
       " 'boxes': [<matplotlib.lines.Line2D at 0x17f803c5a00>],\n",
       " 'medians': [<matplotlib.lines.Line2D at 0x17f804c6730>],\n",
       " 'fliers': [<matplotlib.lines.Line2D at 0x17f804c6a00>],\n",
       " 'means': []}"
      ]
     },
     "execution_count": 32,
     "metadata": {},
     "output_type": "execute_result"
    },
    {
     "data": {
      "image/png": "[encoded data removed]",
      "text/plain": [
       "<Figure size 640x480 with 1 Axes>"
      ]
     },
     "metadata": {},
     "output_type": "display_data"
    }
   ],
   "source": [
    "plt.boxplot(train['day_of_year'])"
   ]
  },
  {
   "cell_type": "code",
   "execution_count": 33,
   "id": "4d2defd0",
   "metadata": {},
   "outputs": [
    {
     "name": "stderr",
     "output_type": "stream",
     "text": [
      "C:\\Users\\Administrator\\anacond\\lib\\site-packages\\seaborn\\distributions.py:2619: FutureWarning: `distplot` is a deprecated function and will be removed in a future version. Please adapt your code to use either `displot` (a figure-level function with similar flexibility) or `histplot` (an axes-level function for histograms).\n",
      "  warnings.warn(msg, FutureWarning)\n"
     ]
    },
    {
     "data": {
      "text/plain": [
       "<AxesSubplot:xlabel='day_of_year', ylabel='Density'>"
      ]
     },
     "execution_count": 33,
     "metadata": {},
     "output_type": "execute_result"
    },
    {
     "data": {
      "image/png": "[encoded data removed]",
      "text/plain": [
       "<Figure size 640x480 with 1 Axes>"
      ]
     },
     "metadata": {},
     "output_type": "display_data"
    }
   ],
   "source": [
    "sns.distplot(train['day_of_year'])"
   ]
  },
  {
   "cell_type": "code",
   "execution_count": 34,
   "id": "8561cd7d",
   "metadata": {},
   "outputs": [
    {
     "data": {
      "text/plain": [
       "{'whiskers': [<matplotlib.lines.Line2D at 0x17f82b03a30>,\n",
       "  <matplotlib.lines.Line2D at 0x17f82b03d00>],\n",
       " 'caps': [<matplotlib.lines.Line2D at 0x17f82b03fd0>,\n",
       "  <matplotlib.lines.Line2D at 0x17f83762310>],\n",
       " 'boxes': [<matplotlib.lines.Line2D at 0x17f82b03730>],\n",
       " 'medians': [<matplotlib.lines.Line2D at 0x17f837625e0>],\n",
       " 'fliers': [<matplotlib.lines.Line2D at 0x17f837628b0>],\n",
       " 'means': []}"
      ]
     },
     "execution_count": 34,
     "metadata": {},
     "output_type": "execute_result"
    },
    {
     "data": {
      "image/png": "[encoded data removed]",
      "text/plain": [
       "<Figure size 640x480 with 1 Axes>"
      ]
     },
     "metadata": {},
     "output_type": "display_data"
    }
   ],
   "source": [
    "plt.boxplot(train['day'])"
   ]
  },
  {
   "cell_type": "code",
   "execution_count": 35,
   "id": "3c91da55",
   "metadata": {},
   "outputs": [
    {
     "name": "stderr",
     "output_type": "stream",
     "text": [
      "C:\\Users\\Administrator\\anacond\\lib\\site-packages\\seaborn\\distributions.py:2619: FutureWarning: `distplot` is a deprecated function and will be removed in a future version. Please adapt your code to use either `displot` (a figure-level function with similar flexibility) or `histplot` (an axes-level function for histograms).\n",
      "  warnings.warn(msg, FutureWarning)\n"
     ]
    },
    {
     "data": {
      "text/plain": [
       "<AxesSubplot:xlabel='day', ylabel='Density'>"
      ]
     },
     "execution_count": 35,
     "metadata": {},
     "output_type": "execute_result"
    },
    {
     "data": {
      "image/png": "[encoded data removed]",
      "text/plain": [
       "<Figure size 640x480 with 1 Axes>"
      ]
     },
     "metadata": {},
     "output_type": "display_data"
    }
   ],
   "source": [
    "sns.distplot(train['day'])"
   ]
  },
  {
   "cell_type": "code",
   "execution_count": 36,
   "id": "4041b12f",
   "metadata": {},
   "outputs": [],
   "source": [
    "#Split to features and targets\n",
    "y_train = train['hour']\n",
    "X_train = train.drop(['hour'],axis=1)"
   ]
  },
  {
   "cell_type": "code",
   "execution_count": 37,
   "id": "41cee5dd",
   "metadata": {},
   "outputs": [
    {
     "data": {
      "text/plain": [
       "Index(['year', 'month', 'day', 'minute', 'weekday', 'day_of_year', 'week_of_year', 'quarter', 'event_type_encoded'], dtype='object')"
      ]
     },
     "execution_count": 37,
     "metadata": {},
     "output_type": "execute_result"
    }
   ],
   "source": [
    "#Calling for the columns\n",
    "cols = X_train.columns\n",
    "cols"
   ]
  },
  {
   "cell_type": "code",
   "execution_count": 38,
   "id": "1a403922",
   "metadata": {},
   "outputs": [
    {
     "data": {
      "text/html": [
       "<div>\n",
       "<style scoped>\n",
       "    .dataframe tbody tr th:only-of-type {\n",
       "        vertical-align: middle;\n",
       "    }\n",
       "\n",
       "    .dataframe tbody tr th {\n",
       "        vertical-align: top;\n",
       "    }\n",
       "\n",
       "    .dataframe thead th {\n",
       "        text-align: right;\n",
       "    }\n",
       "</style>\n",
       "<table border=\"1\" class=\"dataframe\">\n",
       "  <thead>\n",
       "    <tr style=\"text-align: right;\">\n",
       "      <th></th>\n",
       "      <th>year</th>\n",
       "      <th>month</th>\n",
       "      <th>day</th>\n",
       "      <th>minute</th>\n",
       "      <th>weekday</th>\n",
       "      <th>day_of_year</th>\n",
       "      <th>week_of_year</th>\n",
       "      <th>quarter</th>\n",
       "      <th>event_type_encoded</th>\n",
       "    </tr>\n",
       "  </thead>\n",
       "  <tbody>\n",
       "    <tr>\n",
       "      <th>0</th>\n",
       "      <td>2020</td>\n",
       "      <td>2</td>\n",
       "      <td>18</td>\n",
       "      <td>36</td>\n",
       "      <td>1</td>\n",
       "      <td>49</td>\n",
       "      <td>8</td>\n",
       "      <td>1</td>\n",
       "      <td>3</td>\n",
       "    </tr>\n",
       "    <tr>\n",
       "      <th>1</th>\n",
       "      <td>2020</td>\n",
       "      <td>4</td>\n",
       "      <td>8</td>\n",
       "      <td>42</td>\n",
       "      <td>2</td>\n",
       "      <td>99</td>\n",
       "      <td>15</td>\n",
       "      <td>2</td>\n",
       "      <td>21</td>\n",
       "    </tr>\n",
       "    <tr>\n",
       "      <th>2</th>\n",
       "      <td>2020</td>\n",
       "      <td>5</td>\n",
       "      <td>21</td>\n",
       "      <td>32</td>\n",
       "      <td>3</td>\n",
       "      <td>142</td>\n",
       "      <td>21</td>\n",
       "      <td>2</td>\n",
       "      <td>8</td>\n",
       "    </tr>\n",
       "    <tr>\n",
       "      <th>3</th>\n",
       "      <td>2020</td>\n",
       "      <td>5</td>\n",
       "      <td>30</td>\n",
       "      <td>6</td>\n",
       "      <td>5</td>\n",
       "      <td>151</td>\n",
       "      <td>22</td>\n",
       "      <td>2</td>\n",
       "      <td>8</td>\n",
       "    </tr>\n",
       "    <tr>\n",
       "      <th>4</th>\n",
       "      <td>2020</td>\n",
       "      <td>1</td>\n",
       "      <td>31</td>\n",
       "      <td>6</td>\n",
       "      <td>4</td>\n",
       "      <td>31</td>\n",
       "      <td>5</td>\n",
       "      <td>1</td>\n",
       "      <td>24</td>\n",
       "    </tr>\n",
       "    <tr>\n",
       "      <th>...</th>\n",
       "      <td>...</td>\n",
       "      <td>...</td>\n",
       "      <td>...</td>\n",
       "      <td>...</td>\n",
       "      <td>...</td>\n",
       "      <td>...</td>\n",
       "      <td>...</td>\n",
       "      <td>...</td>\n",
       "      <td>...</td>\n",
       "    </tr>\n",
       "    <tr>\n",
       "      <th>72556</th>\n",
       "      <td>2020</td>\n",
       "      <td>4</td>\n",
       "      <td>21</td>\n",
       "      <td>57</td>\n",
       "      <td>1</td>\n",
       "      <td>112</td>\n",
       "      <td>17</td>\n",
       "      <td>2</td>\n",
       "      <td>8</td>\n",
       "    </tr>\n",
       "    <tr>\n",
       "      <th>72557</th>\n",
       "      <td>2020</td>\n",
       "      <td>4</td>\n",
       "      <td>20</td>\n",
       "      <td>39</td>\n",
       "      <td>0</td>\n",
       "      <td>111</td>\n",
       "      <td>17</td>\n",
       "      <td>2</td>\n",
       "      <td>9</td>\n",
       "    </tr>\n",
       "    <tr>\n",
       "      <th>72558</th>\n",
       "      <td>2020</td>\n",
       "      <td>2</td>\n",
       "      <td>1</td>\n",
       "      <td>53</td>\n",
       "      <td>5</td>\n",
       "      <td>32</td>\n",
       "      <td>5</td>\n",
       "      <td>1</td>\n",
       "      <td>24</td>\n",
       "    </tr>\n",
       "    <tr>\n",
       "      <th>72559</th>\n",
       "      <td>2020</td>\n",
       "      <td>3</td>\n",
       "      <td>9</td>\n",
       "      <td>44</td>\n",
       "      <td>0</td>\n",
       "      <td>69</td>\n",
       "      <td>11</td>\n",
       "      <td>1</td>\n",
       "      <td>24</td>\n",
       "    </tr>\n",
       "    <tr>\n",
       "      <th>72560</th>\n",
       "      <td>2020</td>\n",
       "      <td>1</td>\n",
       "      <td>24</td>\n",
       "      <td>10</td>\n",
       "      <td>4</td>\n",
       "      <td>24</td>\n",
       "      <td>4</td>\n",
       "      <td>1</td>\n",
       "      <td>24</td>\n",
       "    </tr>\n",
       "  </tbody>\n",
       "</table>\n",
       "<p>72561 rows × 9 columns</p>\n",
       "</div>"
      ],
      "text/plain": [
       "       year  month  day  minute  weekday  day_of_year  week_of_year  quarter  event_type_encoded\n",
       "0      2020      2   18      36        1           49             8        1                   3\n",
       "1      2020      4    8      42        2           99            15        2                  21\n",
       "2      2020      5   21      32        3          142            21        2                   8\n",
       "3      2020      5   30       6        5          151            22        2                   8\n",
       "4      2020      1   31       6        4           31             5        1                  24\n",
       "...     ...    ...  ...     ...      ...          ...           ...      ...                 ...\n",
       "72556  2020      4   21      57        1          112            17        2                   8\n",
       "72557  2020      4   20      39        0          111            17        2                   9\n",
       "72558  2020      2    1      53        5           32             5        1                  24\n",
       "72559  2020      3    9      44        0           69            11        1                  24\n",
       "72560  2020      1   24      10        4           24             4        1                  24\n",
       "\n",
       "[72561 rows x 9 columns]"
      ]
     },
     "execution_count": 38,
     "metadata": {},
     "output_type": "execute_result"
    }
   ],
   "source": [
    "X_train "
   ]
  },
  {
   "cell_type": "code",
   "execution_count": 39,
   "id": "43ea2aca",
   "metadata": {},
   "outputs": [],
   "source": [
    "#Scaling the data \n",
    "from sklearn.preprocessing import StandardScaler \n",
    "scaler = StandardScaler()\n",
    "X_train = scaler.fit_transform(X_train)"
   ]
  },
  {
   "cell_type": "code",
   "execution_count": 40,
   "id": "f25a8c9d",
   "metadata": {},
   "outputs": [
    {
     "data": {
      "text/plain": [
       "array([[ 0.        , -1.31542682,  0.21656107, ..., -1.19633257,\n",
       "        -1.29882519, -1.39657453],\n",
       "       [ 0.        ,  0.23909937, -0.91126501, ...,  0.05718128,\n",
       "         0.76992655,  0.96748779],\n",
       "       [ 0.        ,  1.01636247,  0.5549089 , ...,  1.13162172,\n",
       "         0.76992655, -0.73989056],\n",
       "       ...,\n",
       "       [ 0.        , -1.31542682, -1.70074326, ..., -1.73355279,\n",
       "        -1.29882519,  1.36149817],\n",
       "       [ 0.        , -0.53816372, -0.7984824 , ..., -0.65911235,\n",
       "        -1.29882519,  1.36149817],\n",
       "       [ 0.        , -2.09268992,  0.89325672, ..., -1.9126262 ,\n",
       "        -1.29882519,  1.36149817]])"
      ]
     },
     "execution_count": 40,
     "metadata": {},
     "output_type": "execute_result"
    }
   ],
   "source": [
    "X_train "
   ]
  },
  {
   "cell_type": "code",
   "execution_count": 41,
   "id": "c672eb58",
   "metadata": {},
   "outputs": [
    {
     "data": {
      "text/plain": [
       "0        14\n",
       "1        11\n",
       "2        10\n",
       "3         5\n",
       "4        21\n",
       "         ..\n",
       "72556    21\n",
       "72557     7\n",
       "72558    18\n",
       "72559    14\n",
       "72560    14\n",
       "Name: hour, Length: 72561, dtype: int64"
      ]
     },
     "execution_count": 41,
     "metadata": {},
     "output_type": "execute_result"
    }
   ],
   "source": [
    "y_train"
   ]
  },
  {
   "cell_type": "code",
   "execution_count": 42,
   "id": "76e80910",
   "metadata": {},
   "outputs": [
    {
     "data": {
      "text/html": [
       "<div>\n",
       "<style scoped>\n",
       "    .dataframe tbody tr th:only-of-type {\n",
       "        vertical-align: middle;\n",
       "    }\n",
       "\n",
       "    .dataframe tbody tr th {\n",
       "        vertical-align: top;\n",
       "    }\n",
       "\n",
       "    .dataframe thead th {\n",
       "        text-align: right;\n",
       "    }\n",
       "</style>\n",
       "<table border=\"1\" class=\"dataframe\">\n",
       "  <thead>\n",
       "    <tr style=\"text-align: right;\">\n",
       "      <th></th>\n",
       "      <th>year</th>\n",
       "      <th>month</th>\n",
       "      <th>day</th>\n",
       "      <th>minute</th>\n",
       "      <th>weekday</th>\n",
       "      <th>day_of_year</th>\n",
       "      <th>week_of_year</th>\n",
       "      <th>quarter</th>\n",
       "      <th>event_type_encoded</th>\n",
       "    </tr>\n",
       "  </thead>\n",
       "  <tbody>\n",
       "    <tr>\n",
       "      <th>0</th>\n",
       "      <td>0.0</td>\n",
       "      <td>-1.315427</td>\n",
       "      <td>0.216561</td>\n",
       "      <td>0.380286</td>\n",
       "      <td>-0.931906</td>\n",
       "      <td>-1.245211</td>\n",
       "      <td>-1.196333</td>\n",
       "      <td>-1.298825</td>\n",
       "      <td>-1.396575</td>\n",
       "    </tr>\n",
       "    <tr>\n",
       "      <th>1</th>\n",
       "      <td>0.0</td>\n",
       "      <td>0.239099</td>\n",
       "      <td>-0.911265</td>\n",
       "      <td>0.726903</td>\n",
       "      <td>-0.422792</td>\n",
       "      <td>0.035996</td>\n",
       "      <td>0.057181</td>\n",
       "      <td>0.769927</td>\n",
       "      <td>0.967488</td>\n",
       "    </tr>\n",
       "    <tr>\n",
       "      <th>2</th>\n",
       "      <td>0.0</td>\n",
       "      <td>1.016362</td>\n",
       "      <td>0.554909</td>\n",
       "      <td>0.149209</td>\n",
       "      <td>0.086322</td>\n",
       "      <td>1.137834</td>\n",
       "      <td>1.131622</td>\n",
       "      <td>0.769927</td>\n",
       "      <td>-0.739891</td>\n",
       "    </tr>\n",
       "    <tr>\n",
       "      <th>3</th>\n",
       "      <td>0.0</td>\n",
       "      <td>1.016362</td>\n",
       "      <td>1.569952</td>\n",
       "      <td>-1.352795</td>\n",
       "      <td>1.104551</td>\n",
       "      <td>1.368451</td>\n",
       "      <td>1.310695</td>\n",
       "      <td>0.769927</td>\n",
       "      <td>-0.739891</td>\n",
       "    </tr>\n",
       "    <tr>\n",
       "      <th>4</th>\n",
       "      <td>0.0</td>\n",
       "      <td>-2.092690</td>\n",
       "      <td>1.682735</td>\n",
       "      <td>-1.352795</td>\n",
       "      <td>0.595437</td>\n",
       "      <td>-1.706445</td>\n",
       "      <td>-1.733553</td>\n",
       "      <td>-1.298825</td>\n",
       "      <td>1.361498</td>\n",
       "    </tr>\n",
       "    <tr>\n",
       "      <th>...</th>\n",
       "      <td>...</td>\n",
       "      <td>...</td>\n",
       "      <td>...</td>\n",
       "      <td>...</td>\n",
       "      <td>...</td>\n",
       "      <td>...</td>\n",
       "      <td>...</td>\n",
       "      <td>...</td>\n",
       "      <td>...</td>\n",
       "    </tr>\n",
       "    <tr>\n",
       "      <th>72556</th>\n",
       "      <td>0.0</td>\n",
       "      <td>0.239099</td>\n",
       "      <td>0.554909</td>\n",
       "      <td>1.593443</td>\n",
       "      <td>-0.931906</td>\n",
       "      <td>0.369110</td>\n",
       "      <td>0.415328</td>\n",
       "      <td>0.769927</td>\n",
       "      <td>-0.739891</td>\n",
       "    </tr>\n",
       "    <tr>\n",
       "      <th>72557</th>\n",
       "      <td>0.0</td>\n",
       "      <td>0.239099</td>\n",
       "      <td>0.442126</td>\n",
       "      <td>0.553594</td>\n",
       "      <td>-1.441021</td>\n",
       "      <td>0.343486</td>\n",
       "      <td>0.415328</td>\n",
       "      <td>0.769927</td>\n",
       "      <td>-0.608554</td>\n",
       "    </tr>\n",
       "    <tr>\n",
       "      <th>72558</th>\n",
       "      <td>0.0</td>\n",
       "      <td>-1.315427</td>\n",
       "      <td>-1.700743</td>\n",
       "      <td>1.362366</td>\n",
       "      <td>1.104551</td>\n",
       "      <td>-1.680821</td>\n",
       "      <td>-1.733553</td>\n",
       "      <td>-1.298825</td>\n",
       "      <td>1.361498</td>\n",
       "    </tr>\n",
       "    <tr>\n",
       "      <th>72559</th>\n",
       "      <td>0.0</td>\n",
       "      <td>-0.538164</td>\n",
       "      <td>-0.798482</td>\n",
       "      <td>0.842441</td>\n",
       "      <td>-1.441021</td>\n",
       "      <td>-0.732728</td>\n",
       "      <td>-0.659112</td>\n",
       "      <td>-1.298825</td>\n",
       "      <td>1.361498</td>\n",
       "    </tr>\n",
       "    <tr>\n",
       "      <th>72560</th>\n",
       "      <td>0.0</td>\n",
       "      <td>-2.092690</td>\n",
       "      <td>0.893257</td>\n",
       "      <td>-1.121718</td>\n",
       "      <td>0.595437</td>\n",
       "      <td>-1.885814</td>\n",
       "      <td>-1.912626</td>\n",
       "      <td>-1.298825</td>\n",
       "      <td>1.361498</td>\n",
       "    </tr>\n",
       "  </tbody>\n",
       "</table>\n",
       "<p>72561 rows × 9 columns</p>\n",
       "</div>"
      ],
      "text/plain": [
       "       year     month       day    minute   weekday  day_of_year  week_of_year   quarter  event_type_encoded\n",
       "0       0.0 -1.315427  0.216561  0.380286 -0.931906    -1.245211     -1.196333 -1.298825           -1.396575\n",
       "1       0.0  0.239099 -0.911265  0.726903 -0.422792     0.035996      0.057181  0.769927            0.967488\n",
       "2       0.0  1.016362  0.554909  0.149209  0.086322     1.137834      1.131622  0.769927           -0.739891\n",
       "3       0.0  1.016362  1.569952 -1.352795  1.104551     1.368451      1.310695  0.769927           -0.739891\n",
       "4       0.0 -2.092690  1.682735 -1.352795  0.595437    -1.706445     -1.733553 -1.298825            1.361498\n",
       "...     ...       ...       ...       ...       ...          ...           ...       ...                 ...\n",
       "72556   0.0  0.239099  0.554909  1.593443 -0.931906     0.369110      0.415328  0.769927           -0.739891\n",
       "72557   0.0  0.239099  0.442126  0.553594 -1.441021     0.343486      0.415328  0.769927           -0.608554\n",
       "72558   0.0 -1.315427 -1.700743  1.362366  1.104551    -1.680821     -1.733553 -1.298825            1.361498\n",
       "72559   0.0 -0.538164 -0.798482  0.842441 -1.441021    -0.732728     -0.659112 -1.298825            1.361498\n",
       "72560   0.0 -2.092690  0.893257 -1.121718  0.595437    -1.885814     -1.912626 -1.298825            1.361498\n",
       "\n",
       "[72561 rows x 9 columns]"
      ]
     },
     "execution_count": 42,
     "metadata": {},
     "output_type": "execute_result"
    }
   ],
   "source": [
    "#Checking for the features variables(features importance)\n",
    "features = pd.DataFrame(X_train, columns=cols)\n",
    "features"
   ]
  },
  {
   "cell_type": "code",
   "execution_count": 43,
   "id": "8ce8e349",
   "metadata": {},
   "outputs": [
    {
     "data": {
      "text/plain": [
       "year                  0\n",
       "month                 0\n",
       "day                   0\n",
       "minute                0\n",
       "weekday               0\n",
       "day_of_year           0\n",
       "week_of_year          0\n",
       "quarter               0\n",
       "event_type_encoded    0\n",
       "dtype: int64"
      ]
     },
     "execution_count": 43,
     "metadata": {},
     "output_type": "execute_result"
    }
   ],
   "source": [
    "#Checking for missing values\n",
    "features.isnull().sum()"
   ]
  },
  {
   "cell_type": "code",
   "execution_count": 44,
   "id": "44aedfff",
   "metadata": {},
   "outputs": [],
   "source": [
    "cont_features = ['day','month','minute','weekday','day_of_year','week_of_year','quarter','event_type_encoded']"
   ]
  },
  {
   "cell_type": "code",
   "execution_count": 45,
   "id": "3b90033c",
   "metadata": {
    "scrolled": false
   },
   "outputs": [
    {
     "data": {
      "text/plain": [
       "<AxesSubplot:>"
      ]
     },
     "execution_count": 45,
     "metadata": {},
     "output_type": "execute_result"
    },
    {
     "data": {
      "image/png": "[encoded data removed]",
      "text/plain": [
       "<Figure size 1000x800 with 2 Axes>"
      ]
     },
     "metadata": {},
     "output_type": "display_data"
    }
   ],
   "source": [
    "plt.figure(figsize=(10,8))\n",
    "corre = features[cont_features].corr()\n",
    "sns.heatmap(corre, annot= True, cmap=\"YlGnBu\")"
   ]
  },
  {
   "cell_type": "markdown",
   "id": "68a063e3",
   "metadata": {},
   "source": [
    "#If there are any columns with correlation above 1.00, one of them will be dropped. \n",
    "#Here,none has a correlation that is above 1.00, so they are kept. "
   ]
  },
  {
   "cell_type": "code",
   "execution_count": 46,
   "id": "28b27ba2",
   "metadata": {},
   "outputs": [
    {
     "data": {
      "text/html": [
       "<div>\n",
       "<style scoped>\n",
       "    .dataframe tbody tr th:only-of-type {\n",
       "        vertical-align: middle;\n",
       "    }\n",
       "\n",
       "    .dataframe tbody tr th {\n",
       "        vertical-align: top;\n",
       "    }\n",
       "\n",
       "    .dataframe thead th {\n",
       "        text-align: right;\n",
       "    }\n",
       "</style>\n",
       "<table border=\"1\" class=\"dataframe\">\n",
       "  <thead>\n",
       "    <tr style=\"text-align: right;\">\n",
       "      <th></th>\n",
       "      <th>0</th>\n",
       "    </tr>\n",
       "  </thead>\n",
       "  <tbody>\n",
       "    <tr>\n",
       "      <th>event_type_encoded</th>\n",
       "      <td>0.248550</td>\n",
       "    </tr>\n",
       "    <tr>\n",
       "      <th>minute</th>\n",
       "      <td>0.234267</td>\n",
       "    </tr>\n",
       "    <tr>\n",
       "      <th>day_of_year</th>\n",
       "      <td>0.203189</td>\n",
       "    </tr>\n",
       "    <tr>\n",
       "      <th>day</th>\n",
       "      <td>0.155756</td>\n",
       "    </tr>\n",
       "    <tr>\n",
       "      <th>weekday</th>\n",
       "      <td>0.105386</td>\n",
       "    </tr>\n",
       "    <tr>\n",
       "      <th>month</th>\n",
       "      <td>0.025491</td>\n",
       "    </tr>\n",
       "    <tr>\n",
       "      <th>week_of_year</th>\n",
       "      <td>0.024098</td>\n",
       "    </tr>\n",
       "    <tr>\n",
       "      <th>quarter</th>\n",
       "      <td>0.003261</td>\n",
       "    </tr>\n",
       "    <tr>\n",
       "      <th>year</th>\n",
       "      <td>0.000000</td>\n",
       "    </tr>\n",
       "  </tbody>\n",
       "</table>\n",
       "</div>"
      ],
      "text/plain": [
       "                           0\n",
       "event_type_encoded  0.248550\n",
       "minute              0.234267\n",
       "day_of_year         0.203189\n",
       "day                 0.155756\n",
       "weekday             0.105386\n",
       "month               0.025491\n",
       "week_of_year        0.024098\n",
       "quarter             0.003261\n",
       "year                0.000000"
      ]
     },
     "execution_count": 46,
     "metadata": {},
     "output_type": "execute_result"
    }
   ],
   "source": [
    "decision_tree = DecisionTreeRegressor(max_depth = 10)\n",
    "decision_tree.fit(X_train, y_train)\n",
    "predictors = cols\n",
    "\n",
    "coef = pd.Series(decision_tree.feature_importances_, predictors).sort_values(ascending=False)\n",
    "coef.to_frame()"
   ]
  },
  {
   "cell_type": "code",
   "execution_count": 47,
   "id": "80f51aff",
   "metadata": {},
   "outputs": [],
   "source": [
    "#Prepare pipeline for data transformation\n",
    "def prepare(df):\n",
    "    #writing code for label encoding on the event type\n",
    "        le = LabelEncoder()\n",
    "        df['event_type_encoded'] = le.fit_transform(df['event_type'])\n",
    "        \n",
    "        df.drop(['account_id','event_type'], axis=1, inplace=True)\n",
    "    \n",
    "        df = drop_outlier(df,'day_of_year')\n",
    "        df = drop_outlier(df,'day')\n",
    "        y_test = df['hour']\n",
    "        X_test = df.drop(['hour'],axis=1)\n",
    "        X_test = scaler.transform(X_test)\n",
    "        return X_test, y_test\n",
    "    "
   ]
  },
  {
   "cell_type": "code",
   "execution_count": 48,
   "id": "562c215a",
   "metadata": {},
   "outputs": [
    {
     "data": {
      "text/html": [
       "<div>\n",
       "<style scoped>\n",
       "    .dataframe tbody tr th:only-of-type {\n",
       "        vertical-align: middle;\n",
       "    }\n",
       "\n",
       "    .dataframe tbody tr th {\n",
       "        vertical-align: top;\n",
       "    }\n",
       "\n",
       "    .dataframe thead th {\n",
       "        text-align: right;\n",
       "    }\n",
       "</style>\n",
       "<table border=\"1\" class=\"dataframe\">\n",
       "  <thead>\n",
       "    <tr style=\"text-align: right;\">\n",
       "      <th></th>\n",
       "      <th>account_id</th>\n",
       "      <th>event_type</th>\n",
       "      <th>year</th>\n",
       "      <th>month</th>\n",
       "      <th>day</th>\n",
       "      <th>hour</th>\n",
       "      <th>minute</th>\n",
       "      <th>weekday</th>\n",
       "      <th>day_of_year</th>\n",
       "      <th>week_of_year</th>\n",
       "      <th>quarter</th>\n",
       "    </tr>\n",
       "  </thead>\n",
       "  <tbody>\n",
       "    <tr>\n",
       "      <th>0</th>\n",
       "      <td>de3c528c39a0c5e1645b59a7c27888c6</td>\n",
       "      <td>LivebookLogin</td>\n",
       "      <td>2020</td>\n",
       "      <td>3</td>\n",
       "      <td>30</td>\n",
       "      <td>13</td>\n",
       "      <td>40</td>\n",
       "      <td>0</td>\n",
       "      <td>90</td>\n",
       "      <td>14</td>\n",
       "      <td>1</td>\n",
       "    </tr>\n",
       "    <tr>\n",
       "      <th>1</th>\n",
       "      <td>6bb61e3b7bce0931da574d19d1d82c88</td>\n",
       "      <td>FirstLivebookAccess</td>\n",
       "      <td>2020</td>\n",
       "      <td>4</td>\n",
       "      <td>30</td>\n",
       "      <td>13</td>\n",
       "      <td>4</td>\n",
       "      <td>3</td>\n",
       "      <td>121</td>\n",
       "      <td>18</td>\n",
       "      <td>2</td>\n",
       "    </tr>\n",
       "    <tr>\n",
       "      <th>2</th>\n",
       "      <td>6bb61e3b7bce0931da574d19d1d82c88</td>\n",
       "      <td>FirstLivebookAccess</td>\n",
       "      <td>2020</td>\n",
       "      <td>6</td>\n",
       "      <td>3</td>\n",
       "      <td>13</td>\n",
       "      <td>24</td>\n",
       "      <td>2</td>\n",
       "      <td>155</td>\n",
       "      <td>23</td>\n",
       "      <td>2</td>\n",
       "    </tr>\n",
       "    <tr>\n",
       "      <th>3</th>\n",
       "      <td>6bb61e3b7bce0931da574d19d1d82c88</td>\n",
       "      <td>FirstLivebookAccess</td>\n",
       "      <td>2020</td>\n",
       "      <td>4</td>\n",
       "      <td>6</td>\n",
       "      <td>13</td>\n",
       "      <td>35</td>\n",
       "      <td>0</td>\n",
       "      <td>97</td>\n",
       "      <td>15</td>\n",
       "      <td>2</td>\n",
       "    </tr>\n",
       "    <tr>\n",
       "      <th>4</th>\n",
       "      <td>6bb61e3b7bce0931da574d19d1d82c88</td>\n",
       "      <td>FirstManningAccess</td>\n",
       "      <td>2020</td>\n",
       "      <td>3</td>\n",
       "      <td>23</td>\n",
       "      <td>18</td>\n",
       "      <td>44</td>\n",
       "      <td>0</td>\n",
       "      <td>83</td>\n",
       "      <td>13</td>\n",
       "      <td>1</td>\n",
       "    </tr>\n",
       "  </tbody>\n",
       "</table>\n",
       "</div>"
      ],
      "text/plain": [
       "                         account_id           event_type  year  month  day  hour  minute  weekday  day_of_year  week_of_year  quarter\n",
       "0  de3c528c39a0c5e1645b59a7c27888c6        LivebookLogin  2020      3   30    13      40        0           90            14        1\n",
       "1  6bb61e3b7bce0931da574d19d1d82c88  FirstLivebookAccess  2020      4   30    13       4        3          121            18        2\n",
       "2  6bb61e3b7bce0931da574d19d1d82c88  FirstLivebookAccess  2020      6    3    13      24        2          155            23        2\n",
       "3  6bb61e3b7bce0931da574d19d1d82c88  FirstLivebookAccess  2020      4    6    13      35        0           97            15        2\n",
       "4  6bb61e3b7bce0931da574d19d1d82c88   FirstManningAccess  2020      3   23    18      44        0           83            13        1"
      ]
     },
     "execution_count": 48,
     "metadata": {},
     "output_type": "execute_result"
    }
   ],
   "source": [
    "test.head()"
   ]
  },
  {
   "cell_type": "code",
   "execution_count": 49,
   "id": "4e9049ca",
   "metadata": {},
   "outputs": [],
   "source": [
    "X_test, y_test = prepare(test)"
   ]
  },
  {
   "cell_type": "code",
   "execution_count": 50,
   "id": "a51c0f41",
   "metadata": {},
   "outputs": [
    {
     "data": {
      "text/plain": [
       "(72561, 9)"
      ]
     },
     "execution_count": 50,
     "metadata": {},
     "output_type": "execute_result"
    }
   ],
   "source": [
    "X_train.shape"
   ]
  },
  {
   "cell_type": "code",
   "execution_count": 51,
   "id": "1fb359d9",
   "metadata": {},
   "outputs": [
    {
     "data": {
      "text/plain": [
       "array([[ 0.        , -0.53816372,  1.56995237, ..., -0.12189213,\n",
       "        -1.29882519,  0.04813022],\n",
       "       [ 0.        ,  0.23909937,  1.56995237, ...,  0.5944015 ,\n",
       "         0.76992655, -0.73989056],\n",
       "       [ 0.        ,  1.79362557, -1.47517805, ...,  1.48976853,\n",
       "         0.76992655, -0.73989056],\n",
       "       ...,\n",
       "       [ 0.        , -0.53816372,  0.44212629, ..., -0.48003894,\n",
       "        -1.29882519,  1.23016138],\n",
       "       [ 0.        , -0.53816372,  1.56995237, ..., -0.12189213,\n",
       "        -1.29882519,  1.23016138],\n",
       "       [ 0.        ,  0.23909937, -0.7984824 , ...,  0.05718128,\n",
       "         0.76992655, -0.73989056]])"
      ]
     },
     "execution_count": 51,
     "metadata": {},
     "output_type": "execute_result"
    }
   ],
   "source": [
    "X_test"
   ]
  },
  {
   "cell_type": "code",
   "execution_count": 52,
   "id": "a5e56b4f",
   "metadata": {},
   "outputs": [
    {
     "data": {
      "text/plain": [
       "0        13\n",
       "1        13\n",
       "2        13\n",
       "3        13\n",
       "4        18\n",
       "         ..\n",
       "18109     4\n",
       "18110    12\n",
       "18111    22\n",
       "18112    15\n",
       "18113    19\n",
       "Name: hour, Length: 18114, dtype: int64"
      ]
     },
     "execution_count": 52,
     "metadata": {},
     "output_type": "execute_result"
    }
   ],
   "source": [
    "y_test"
   ]
  },
  {
   "cell_type": "code",
   "execution_count": 53,
   "id": "1e58100d",
   "metadata": {},
   "outputs": [],
   "source": [
    "#Function to train and evaluate XGBoost model on the dataset:\n",
    "import xgboost as xgb\n",
    "from sklearn.metrics import mean_squared_error, mean_absolute_error\n",
    "\n",
    "def train_xgboost(train_X, train_y, test_X, test_y, params):\n",
    "    dtrain = xgb.DMatrix(train_X, label=train_y)\n",
    "    dtest = xgb.DMatrix(test_X, label=test_y)\n",
    "\n",
    "    # Train the model\n",
    "    model = xgb.train(params=params, dtrain=dtrain)\n",
    "\n",
    "    # Make predictions on the test set\n",
    "    y_pred = model.predict(dtest)\n",
    "\n",
    "    # Evaluate the model\n",
    "    mse = mean_squared_error(test_y, y_pred)\n",
    "    mae = mean_absolute_error(test_y, y_pred)\n",
    "\n",
    "    return model, y_pred, mse, mae\n"
   ]
  },
  {
   "cell_type": "code",
   "execution_count": 54,
   "id": "4205e8e6",
   "metadata": {},
   "outputs": [
    {
     "name": "stdout",
     "output_type": "stream",
     "text": [
      "Mean squared error: 43.04025477780469\n"
     ]
    }
   ],
   "source": [
    "# Define the XGBoost regressor model\n",
    "xgb = XGBRegressor()\n",
    "\n",
    "# Train the model\n",
    "xgb.fit(X_train, y_train)\n",
    "\n",
    "# Make predictions on the test set\n",
    "y_pred = xgb.predict(X_test)\n",
    "\n",
    "# Evaluate the model using mean squared error\n",
    "mse = mean_squared_error(y_test, y_pred)\n",
    "print(f\"Mean squared error: {mse}\")"
   ]
  },
  {
   "cell_type": "markdown",
   "id": "6dab3050",
   "metadata": {},
   "source": [
    "#How the above function works.\n",
    "a. It Split the dataset into training and test sets.\n",
    "b. Scaled the features of both sets.\n",
    "c. Define the hyperparameters for XGBoost.\n",
    "d. Train the model using the train_xgboost function, passing in the training and test sets along with the hyperparameters.\n",
    "e. Evaluate the model using the returned values for the model object, predicted values, MSE, and MAE.\n",
    "\n",
    "The mean squared error (MSE) is a measure of the quality of an estimator—it measures the average of the squares of the errors, or deviations, between the predicted values and the actual values.\n",
    "\n",
    "In this XGBoost regression model, the MSE value of 43.04025477780469 represents the average of the squared differences between the predicted values and the actual values in the training set."
   ]
  },
  {
   "cell_type": "code",
   "execution_count": 55,
   "id": "67979d07",
   "metadata": {},
   "outputs": [
    {
     "data": {
      "image/png": "[encoded data removed]",
      "text/plain": [
       "<Figure size 1000x600 with 1 Axes>"
      ]
     },
     "metadata": {},
     "output_type": "display_data"
    }
   ],
   "source": [
    "#To visualize the predicted and actual values\n",
    "import matplotlib.pyplot as plt\n",
    "\n",
    "plt.figure(figsize=(10, 6))\n",
    "plt.plot(y_test.values, label='Actual')\n",
    "plt.plot(y_pred, label='Predicted')\n",
    "plt.legend()\n",
    "plt.title('Predicted vs Actual')\n",
    "plt.show()\n",
    "#The plot below shows the actual values plotted in blue,\n",
    "#and the predicted values plotted in orange. \n",
    "#and this shows how well the model is able to predict the actual values."
   ]
  },
  {
   "cell_type": "code",
   "execution_count": 56,
   "id": "b032b4a6",
   "metadata": {},
   "outputs": [
    {
     "data": {
      "text/plain": [
       "14    3913\n",
       "15    3860\n",
       "13    3790\n",
       "16    3630\n",
       "17    3572\n",
       "19    3490\n",
       "12    3350\n",
       "18    3329\n",
       "11    3301\n",
       "20    3233\n",
       "9     3144\n",
       "10    3091\n",
       "21    3026\n",
       "8     3021\n",
       "7     3010\n",
       "0     2757\n",
       "22    2615\n",
       "1     2518\n",
       "2     2499\n",
       "6     2479\n",
       "5     2334\n",
       "4     2261\n",
       "3     2211\n",
       "23    2127\n",
       "Name: hour, dtype: int64"
      ]
     },
     "execution_count": 56,
     "metadata": {},
     "output_type": "execute_result"
    }
   ],
   "source": [
    "#Our data set is inbalanced\n",
    "y_train.value_counts()"
   ]
  },
  {
   "cell_type": "code",
   "execution_count": 57,
   "id": "55bc14d6",
   "metadata": {},
   "outputs": [],
   "source": [
    "#upsampling the dataset to be balanced:\n",
    "from imblearn.over_sampling import SMOTE\n",
    "\n",
    "def train_model_with_smote(X_train, y_train, X_test, y_test):\n",
    "    # Upsample training data using SMOTE\n",
    "    sm = SMOTE(random_state=42)\n",
    "    X_train_res, y_train_res = sm.fit_resample(X_train, y_train)\n",
    "    \n",
    "    # Train XGBoost model on resampled data,\n",
    "    #to retrain the XGBoost model after upsampling the data:\n",
    "    xgb_model = xgb.XGBRegressor(objective='reg:squarederror', n_estimators=100, random_state=42)\n",
    "    xgb_model.fit(X_train_res, y_train_res)\n",
    "    \n",
    "    # Evaluate model performance on test data\n",
    "    y_pred = xgb_model.predict(X_test)\n",
    "    mse = mean_squared_error(y_test, y_pred)\n",
    "    print(f'Mean squared error: {mse:.2f}')\n",
    "    \n",
    "    # Plot actual vs predicted values\n",
    "    plt.plot(y_test, label='Actual')\n",
    "    plt.plot(y_pred, label='Predicted')\n",
    "    plt.legend()\n",
    "    plt.show()\n",
    "    \n",
    "    return xgb_model\n"
   ]
  },
  {
   "cell_type": "code",
   "execution_count": 58,
   "id": "c6502445",
   "metadata": {},
   "outputs": [
    {
     "data": {
      "image/png": "[encoded data removed]",
      "text/plain": [
       "<Figure size 640x480 with 1 Axes>"
      ]
     },
     "metadata": {},
     "output_type": "display_data"
    }
   ],
   "source": [
    "# Plot actual vs predicted values\n",
    "plt.plot(y_test, label='Actual')\n",
    "plt.plot(y_pred, label='Predicted')\n",
    "plt.legend()\n",
    "plt.show()    "
   ]
  },
  {
   "cell_type": "markdown",
   "id": "5014fa83",
   "metadata": {},
   "source": [
    "This function uses the SMOTE algorithm to upsample the training data, trains an XGBoost model on the upsampled data, and then evaluates the model on the test data. Finally, it plots the actual vs predicted values for visualization."
   ]
  },
  {
   "cell_type": "code",
   "execution_count": 59,
   "id": "3c392e5f",
   "metadata": {},
   "outputs": [
    {
     "name": "stdout",
     "output_type": "stream",
     "text": [
      "Mean squared error: 43.04\n",
      "Root mean squared error: 6.56\n"
     ]
    }
   ],
   "source": [
    "#Evaluating the mean squared error (MSE),\n",
    "#and root mean squared error (RMSE) for XGBoost model:\n",
    "from sklearn.metrics import mean_squared_error\n",
    "\n",
    "# make predictions on the test set\n",
    "model = xgb\n",
    "y_pred = model.predict(X_test)\n",
    "\n",
    "# calculate mean squared error\n",
    "mse = mean_squared_error(y_test, y_pred)\n",
    "print(f\"Mean squared error: {mse:.2f}\")\n",
    "\n",
    "# calculate root mean squared error\n",
    "rmse = mean_squared_error(y_test, y_pred, squared=False)\n",
    "print(f\"Root mean squared error: {rmse:.2f}\")\n"
   ]
  },
  {
   "cell_type": "markdown",
   "id": "c55af7b1",
   "metadata": {},
   "source": [
    "In the function above, model is the trained XGBoost model, X_test and y_test are the test set features and target respectively, and y_pred are the predicted target values. The mean_squared_error() function from Scikit-learn is used to calculate both the MSE and RMSE. The squared=False parameter is passed to mean_squared_error() to calculate the RMSE instead of the default MSE.\n",
    "\n",
    "\n",
    "The mean squared error (MSE) is a measure of how well a regression model performs in predicting continuous numerical values. A lower MSE indicates that the model is better at predicting the target variable. In this case of XGBoost regressor training model, a mean squared error of 43.04 means that on average, the squared difference between the predicted and actual values is 43.04.\n",
    "\n",
    "The root mean squared error (RMSE) is a more interpretable measure of the same thing, as it is in the same unit as the target variable. The RMSE in this model is 6.56, which means that on average, the difference between the predicted and actual values is about 6.56 units.\n",
    "\n",
    "In summary, the XGBoost regressor training model has an average prediction error of 6.56 units, which indicates that it is doing reasonably well in predicting the target variable but cant be concluded until it is tried with other models which will determine the one that performs better."
   ]
  },
  {
   "cell_type": "code",
   "execution_count": 60,
   "id": "0a56dd67",
   "metadata": {},
   "outputs": [
    {
     "name": "stdout",
     "output_type": "stream",
     "text": [
      "{'subsample': 0.7, 'n_estimators': 100, 'max_depth': 3, 'learning_rate': 0.05, 'colsample_bytree': 0.7}\n",
      "Mean squared error: 42.65080479545261\n",
      "Root mean squared error: 6.530758362966173\n"
     ]
    },
    {
     "data": {
      "image/png": "[encoded data removed]",
      "text/plain": [
       "<Figure size 640x480 with 1 Axes>"
      ]
     },
     "metadata": {},
     "output_type": "display_data"
    }
   ],
   "source": [
    "#using RandomizedSearchCV to speed up the optimization process. \n",
    "#RandomizedSearchCV works similarly to GridSearchCV,\n",
    "#but it only evaluates a random subset of the hyperparameter combinations,\n",
    "#instead of all possible combinations.\n",
    "\n",
    "from sklearn.model_selection import RandomizedSearchCV\n",
    "from xgboost import XGBRegressor\n",
    "\n",
    " # Upsample training data using SMOTE\n",
    "sm = SMOTE(random_state=42)\n",
    "X_train_res, y_train_res = sm.fit_resample(X_train, y_train)\n",
    "    \n",
    "\n",
    "# Define hyperparameters grid for RandomizedSearchCV\n",
    "params = {\n",
    "    'n_estimators': [100, 500, 1000],\n",
    "    'learning_rate': [0.05, 0.1, 0.2],\n",
    "    'max_depth': [3, 5, 7],\n",
    "    'subsample': [0.5, 0.7, 1],\n",
    "    'colsample_bytree': [0.5, 0.7, 1],\n",
    "}\n",
    "\n",
    "# Initialize XGBoost model\n",
    "model = XGBRegressor()\n",
    "\n",
    "# Initialize RandomizedSearchCV\n",
    "rs = RandomizedSearchCV(model, params, n_iter=20, cv=5, n_jobs=-1, random_state=42)\n",
    "\n",
    "# Fit the RandomizedSearchCV on the upsampled training set\n",
    "rs.fit(X_train_res, y_train_res)\n",
    "\n",
    "# Print the best hyperparameters found\n",
    "print(rs.best_params_)\n",
    "\n",
    "# Re-train the model with the best hyperparameters\n",
    "model = XGBRegressor(**rs.best_params_)\n",
    "model.fit(X_train_res, y_train_res)\n",
    "\n",
    "# Evaluate the re-trained model on the test set\n",
    "y_pred = model.predict(X_test)\n",
    "mse = mean_squared_error(y_test, y_pred)\n",
    "rmse = np.sqrt(mse)\n",
    "print('Mean squared error:', mse)\n",
    "print('Root mean squared error:', rmse)\n",
    "\n",
    "# Plot actual vs predicted values\n",
    "plt.plot(y_test, label='Actual')\n",
    "plt.plot(y_pred, label='Predicted')\n",
    "plt.legend()\n",
    "plt.show()\n"
   ]
  },
  {
   "cell_type": "markdown",
   "id": "5ae0d4f9",
   "metadata": {},
   "source": [
    "Looking at the two results, it shows that the mean squared error has slightly decreased from 43.04 to 42.65 after optimizing the hyperparameters with RandomizedSearchCV. The root mean squared error has also slightly decreased from 6.56 to 6.53.\n",
    "\n",
    "This can indicates that the optimized model is performing slightly better in terms of prediction accuracy compared to the previous model."
   ]
  },
  {
   "cell_type": "code",
   "execution_count": 61,
   "id": "ff48480e",
   "metadata": {},
   "outputs": [
    {
     "name": "stdout",
     "output_type": "stream",
     "text": [
      "Fitting 5 folds for each of 10 candidates, totalling 50 fits\n",
      "Best hyperparameters:  {'subsample': 0.5, 'n_estimators': 500, 'max_depth': 6, 'learning_rate': 0.05, 'colsample_bytree': 0.7}\n",
      "Mean squared error: 42.49\n",
      "Root mean squared error: 6.52\n"
     ]
    }
   ],
   "source": [
    "#almost same function as above, still using hyperparameter tuning of RandomizedSearchCV\n",
    "from xgboost import XGBRegressor\n",
    "from sklearn.model_selection import RandomizedSearchCV\n",
    "import numpy as np\n",
    "\n",
    "# Upsample training data using SMOTE\n",
    "sm = SMOTE(random_state=42)\n",
    "X_train_res, y_train_res = sm.fit_resample(X_train, y_train)\n",
    "    \n",
    "\n",
    "\n",
    "# define the model\n",
    "xgb_model = XGBRegressor()\n",
    "\n",
    "# set up hyperparameter grid\n",
    "param_grid = {\n",
    "    'max_depth': np.arange(3, 10),\n",
    "    'learning_rate': np.arange(0.05, 0.3, 0.05),\n",
    "    'n_estimators': [500, 1000, 1500],\n",
    "    'subsample': np.arange(0.5, 1, 0.1),\n",
    "    'colsample_bytree': np.arange(0.5, 1, 0.1)\n",
    "}\n",
    "\n",
    "# set up randomized search\n",
    "random_search = RandomizedSearchCV(estimator=xgb_model, param_distributions=param_grid, n_iter=10, scoring='neg_mean_squared_error', n_jobs=-1, cv=5, verbose=2, random_state=42)\n",
    "\n",
    "# fit randomized search\n",
    "random_search.fit(X_train_res, y_train_res)\n",
    "\n",
    "# print best hyperparameters\n",
    "print(\"Best hyperparameters: \", random_search.best_params_)\n",
    "\n",
    "# evaluate the model with best hyperparameters\n",
    "best_xgb = random_search.best_estimator_\n",
    "y_pred = best_xgb.predict(X_test)\n",
    "mse = mean_squared_error(y_test, y_pred)\n",
    "rmse = np.sqrt(mse)\n",
    "print(\"Mean squared error: {:.2f}\".format(mse))\n",
    "print(\"Root mean squared error: {:.2f}\".format(rmse))\n"
   ]
  },
  {
   "cell_type": "code",
   "execution_count": 62,
   "id": "d6d4de9f",
   "metadata": {},
   "outputs": [
    {
     "data": {
      "image/png": "[encoded data removed]",
      "text/plain": [
       "<Figure size 640x480 with 1 Axes>"
      ]
     },
     "metadata": {},
     "output_type": "display_data"
    }
   ],
   "source": [
    "# Plot actual vs predicted values\n",
    "plt.plot(y_test, label='Actual')\n",
    "plt.plot(y_pred, label='Predicted')\n",
    "plt.legend()\n",
    "plt.show()\n"
   ]
  },
  {
   "cell_type": "markdown",
   "id": "974ff69b",
   "metadata": {},
   "source": [
    "looking at this result also, the optimized model with the best hyperparameters has a slightly lower mean squared error and the same root mean squared error compared to the previous optimized model. This suggests that the new hyperparameters found by the randomized search have slightly improved the model's ability to make accurate predictions. However, the difference in performance between the two models is relatively small."
   ]
  },
  {
   "cell_type": "code",
   "execution_count": 63,
   "id": "26fd862d",
   "metadata": {},
   "outputs": [],
   "source": [
    "#trying to do cross validation on a small sample of the main data\n",
    "#to estimate the skill of the machine learning model(XGBOOST) on unseen data\n",
    "from sklearn.model_selection import cross_val_score\n",
    "import sklearn.metrics"
   ]
  },
  {
   "cell_type": "code",
   "execution_count": 99,
   "id": "204f68a9",
   "metadata": {},
   "outputs": [
    {
     "name": "stdout",
     "output_type": "stream",
     "text": [
      "scores: [0.01095589 0.01143994 0.00870904 0.01121026 0.0097897  0.01287589\n",
      " 0.01005281 0.01076511 0.01411436 0.00548642]\n",
      "mean: 0.010539942607119735\n",
      "standard deviation: 0.002222759924474776\n"
     ]
    }
   ],
   "source": [
    "scores=cross_val_score(model, X_train,y_train, scoring='r2', cv=10)\n",
    "\n",
    "def display_scores(scores):\n",
    "    print ('scores:', scores)\n",
    "    print('mean:', scores.mean())\n",
    "    print('standard deviation:', scores.std())\n",
    "    \n",
    "display_scores(scores)"
   ]
  },
  {
   "cell_type": "markdown",
   "id": "8405126e",
   "metadata": {},
   "source": [
    "The cross validation scores indicate how well the XGBoost model is performing on unseen data. The mean score of 0.0105 suggests that, on average, the model has an error of 1.05% when making predictions on new data(not so sure). The standard deviation of 0.0022 indicates that the model's performance is consistent across different folds of the data. A smaller standard deviation suggests that the model is performing consistently well across all folds, which is a good sign. Overall, a mean score of 0.0105 can suggests that the model might be performing well and can make accurate predictions on new data or might not be fit for the dataset."
   ]
  },
  {
   "cell_type": "code",
   "execution_count": 65,
   "id": "1d06ffac",
   "metadata": {},
   "outputs": [
    {
     "data": {
      "text/plain": [
       "Index(['account_id', 'event_type', 'year', 'month', 'day', 'hour', 'minute', 'weekday', 'day_of_year', 'week_of_year', 'quarter'], dtype='object')"
      ]
     },
     "execution_count": 65,
     "metadata": {},
     "output_type": "execute_result"
    }
   ],
   "source": [
    "#calling for the columns of the subset dataset\n",
    "cols = subset_df_sorted.columns\n",
    "cols"
   ]
  },
  {
   "cell_type": "code",
   "execution_count": 66,
   "id": "8bb2ae84",
   "metadata": {},
   "outputs": [
    {
     "data": {
      "text/html": [
       "<div>\n",
       "<style scoped>\n",
       "    .dataframe tbody tr th:only-of-type {\n",
       "        vertical-align: middle;\n",
       "    }\n",
       "\n",
       "    .dataframe tbody tr th {\n",
       "        vertical-align: top;\n",
       "    }\n",
       "\n",
       "    .dataframe thead th {\n",
       "        text-align: right;\n",
       "    }\n",
       "</style>\n",
       "<table border=\"1\" class=\"dataframe\">\n",
       "  <thead>\n",
       "    <tr style=\"text-align: right;\">\n",
       "      <th></th>\n",
       "      <th>account_id</th>\n",
       "      <th>event_type</th>\n",
       "      <th>year</th>\n",
       "      <th>month</th>\n",
       "      <th>day</th>\n",
       "      <th>hour</th>\n",
       "      <th>minute</th>\n",
       "      <th>weekday</th>\n",
       "      <th>day_of_year</th>\n",
       "      <th>week_of_year</th>\n",
       "      <th>quarter</th>\n",
       "    </tr>\n",
       "    <tr>\n",
       "      <th>event_time</th>\n",
       "      <th></th>\n",
       "      <th></th>\n",
       "      <th></th>\n",
       "      <th></th>\n",
       "      <th></th>\n",
       "      <th></th>\n",
       "      <th></th>\n",
       "      <th></th>\n",
       "      <th></th>\n",
       "      <th></th>\n",
       "      <th></th>\n",
       "    </tr>\n",
       "  </thead>\n",
       "  <tbody>\n",
       "    <tr>\n",
       "      <th>2019-11-29 12:14:16.202</th>\n",
       "      <td>8587c95bad699891a6a0cd9e9f7dfbda</td>\n",
       "      <td>ReadingOwnedBook</td>\n",
       "      <td>2019</td>\n",
       "      <td>11</td>\n",
       "      <td>29</td>\n",
       "      <td>12</td>\n",
       "      <td>14</td>\n",
       "      <td>4</td>\n",
       "      <td>333</td>\n",
       "      <td>48</td>\n",
       "      <td>4</td>\n",
       "    </tr>\n",
       "    <tr>\n",
       "      <th>2019-11-29 12:18:21.168</th>\n",
       "      <td>0970f0bb3ab5479b8a1c5c31945ec379</td>\n",
       "      <td>HighlightCreated</td>\n",
       "      <td>2019</td>\n",
       "      <td>11</td>\n",
       "      <td>29</td>\n",
       "      <td>12</td>\n",
       "      <td>18</td>\n",
       "      <td>4</td>\n",
       "      <td>333</td>\n",
       "      <td>48</td>\n",
       "      <td>4</td>\n",
       "    </tr>\n",
       "    <tr>\n",
       "      <th>2019-11-29 12:20:34.090</th>\n",
       "      <td>bcb7c13ff9746a60fa8c3e748acd054d</td>\n",
       "      <td>ReadingOwnedBook</td>\n",
       "      <td>2019</td>\n",
       "      <td>11</td>\n",
       "      <td>29</td>\n",
       "      <td>12</td>\n",
       "      <td>20</td>\n",
       "      <td>4</td>\n",
       "      <td>333</td>\n",
       "      <td>48</td>\n",
       "      <td>4</td>\n",
       "    </tr>\n",
       "    <tr>\n",
       "      <th>2019-11-29 12:29:58.628</th>\n",
       "      <td>4329c5badb1e019b2fca73b69489cf59</td>\n",
       "      <td>ReadingFreePreview</td>\n",
       "      <td>2019</td>\n",
       "      <td>11</td>\n",
       "      <td>29</td>\n",
       "      <td>12</td>\n",
       "      <td>29</td>\n",
       "      <td>4</td>\n",
       "      <td>333</td>\n",
       "      <td>48</td>\n",
       "      <td>4</td>\n",
       "    </tr>\n",
       "    <tr>\n",
       "      <th>2019-11-29 12:31:07.413</th>\n",
       "      <td>70ff8976a6e249b37a22bf0bc754e5a1</td>\n",
       "      <td>ReadingOwnedBook</td>\n",
       "      <td>2019</td>\n",
       "      <td>11</td>\n",
       "      <td>29</td>\n",
       "      <td>12</td>\n",
       "      <td>31</td>\n",
       "      <td>4</td>\n",
       "      <td>333</td>\n",
       "      <td>48</td>\n",
       "      <td>4</td>\n",
       "    </tr>\n",
       "  </tbody>\n",
       "</table>\n",
       "</div>"
      ],
      "text/plain": [
       "                                               account_id          event_type  year  month  day  hour  minute  weekday  day_of_year  week_of_year  quarter\n",
       "event_time                                                                                                                                                \n",
       "2019-11-29 12:14:16.202  8587c95bad699891a6a0cd9e9f7dfbda    ReadingOwnedBook  2019     11   29    12      14        4          333            48        4\n",
       "2019-11-29 12:18:21.168  0970f0bb3ab5479b8a1c5c31945ec379    HighlightCreated  2019     11   29    12      18        4          333            48        4\n",
       "2019-11-29 12:20:34.090  bcb7c13ff9746a60fa8c3e748acd054d    ReadingOwnedBook  2019     11   29    12      20        4          333            48        4\n",
       "2019-11-29 12:29:58.628  4329c5badb1e019b2fca73b69489cf59  ReadingFreePreview  2019     11   29    12      29        4          333            48        4\n",
       "2019-11-29 12:31:07.413  70ff8976a6e249b37a22bf0bc754e5a1    ReadingOwnedBook  2019     11   29    12      31        4          333            48        4"
      ]
     },
     "execution_count": 66,
     "metadata": {},
     "output_type": "execute_result"
    }
   ],
   "source": [
    "subset_df_sorted.head()"
   ]
  },
  {
   "cell_type": "code",
   "execution_count": 79,
   "id": "5814707c",
   "metadata": {},
   "outputs": [
    {
     "data": {
      "text/html": [
       "<div>\n",
       "<style scoped>\n",
       "    .dataframe tbody tr th:only-of-type {\n",
       "        vertical-align: middle;\n",
       "    }\n",
       "\n",
       "    .dataframe tbody tr th {\n",
       "        vertical-align: top;\n",
       "    }\n",
       "\n",
       "    .dataframe thead th {\n",
       "        text-align: right;\n",
       "    }\n",
       "</style>\n",
       "<table border=\"1\" class=\"dataframe\">\n",
       "  <thead>\n",
       "    <tr style=\"text-align: right;\">\n",
       "      <th></th>\n",
       "      <th>account_id</th>\n",
       "      <th>event_type</th>\n",
       "      <th>year</th>\n",
       "      <th>month</th>\n",
       "      <th>day</th>\n",
       "      <th>hour</th>\n",
       "      <th>minute</th>\n",
       "      <th>weekday</th>\n",
       "      <th>day_of_year</th>\n",
       "      <th>week_of_year</th>\n",
       "      <th>quarter</th>\n",
       "    </tr>\n",
       "    <tr>\n",
       "      <th>event_time</th>\n",
       "      <th></th>\n",
       "      <th></th>\n",
       "      <th></th>\n",
       "      <th></th>\n",
       "      <th></th>\n",
       "      <th></th>\n",
       "      <th></th>\n",
       "      <th></th>\n",
       "      <th></th>\n",
       "      <th></th>\n",
       "      <th></th>\n",
       "    </tr>\n",
       "  </thead>\n",
       "  <tbody>\n",
       "    <tr>\n",
       "      <th>2020-06-04 04:09:58.082</th>\n",
       "      <td>6bb61e3b7bce0931da574d19d1d82c88</td>\n",
       "      <td>FirstLivebookAccess</td>\n",
       "      <td>2020</td>\n",
       "      <td>6</td>\n",
       "      <td>4</td>\n",
       "      <td>4</td>\n",
       "      <td>9</td>\n",
       "      <td>3</td>\n",
       "      <td>156</td>\n",
       "      <td>23</td>\n",
       "      <td>2</td>\n",
       "    </tr>\n",
       "    <tr>\n",
       "      <th>2020-06-04 04:16:00.045</th>\n",
       "      <td>6bb61e3b7bce0931da574d19d1d82c88</td>\n",
       "      <td>FirstManningAccess</td>\n",
       "      <td>2020</td>\n",
       "      <td>6</td>\n",
       "      <td>4</td>\n",
       "      <td>4</td>\n",
       "      <td>16</td>\n",
       "      <td>3</td>\n",
       "      <td>156</td>\n",
       "      <td>23</td>\n",
       "      <td>2</td>\n",
       "    </tr>\n",
       "    <tr>\n",
       "      <th>2020-06-04 04:18:30.221</th>\n",
       "      <td>1c8c521a3023fb18e82dcb8bf46a067b</td>\n",
       "      <td>HighlightCreated</td>\n",
       "      <td>2020</td>\n",
       "      <td>6</td>\n",
       "      <td>4</td>\n",
       "      <td>4</td>\n",
       "      <td>18</td>\n",
       "      <td>3</td>\n",
       "      <td>156</td>\n",
       "      <td>23</td>\n",
       "      <td>2</td>\n",
       "    </tr>\n",
       "    <tr>\n",
       "      <th>2020-06-04 04:18:44.445</th>\n",
       "      <td>6bb61e3b7bce0931da574d19d1d82c88</td>\n",
       "      <td>FirstManningAccess</td>\n",
       "      <td>2020</td>\n",
       "      <td>6</td>\n",
       "      <td>4</td>\n",
       "      <td>4</td>\n",
       "      <td>18</td>\n",
       "      <td>3</td>\n",
       "      <td>156</td>\n",
       "      <td>23</td>\n",
       "      <td>2</td>\n",
       "    </tr>\n",
       "    <tr>\n",
       "      <th>2020-06-04 04:19:59.612</th>\n",
       "      <td>6bb61e3b7bce0931da574d19d1d82c88</td>\n",
       "      <td>FirstManningAccess</td>\n",
       "      <td>2020</td>\n",
       "      <td>6</td>\n",
       "      <td>4</td>\n",
       "      <td>4</td>\n",
       "      <td>19</td>\n",
       "      <td>3</td>\n",
       "      <td>156</td>\n",
       "      <td>23</td>\n",
       "      <td>2</td>\n",
       "    </tr>\n",
       "  </tbody>\n",
       "</table>\n",
       "</div>"
      ],
      "text/plain": [
       "                                               account_id           event_type  year  month  day  hour  minute  weekday  day_of_year  week_of_year  quarter\n",
       "event_time                                                                                                                                                 \n",
       "2020-06-04 04:09:58.082  6bb61e3b7bce0931da574d19d1d82c88  FirstLivebookAccess  2020      6    4     4       9        3          156            23        2\n",
       "2020-06-04 04:16:00.045  6bb61e3b7bce0931da574d19d1d82c88   FirstManningAccess  2020      6    4     4      16        3          156            23        2\n",
       "2020-06-04 04:18:30.221  1c8c521a3023fb18e82dcb8bf46a067b     HighlightCreated  2020      6    4     4      18        3          156            23        2\n",
       "2020-06-04 04:18:44.445  6bb61e3b7bce0931da574d19d1d82c88   FirstManningAccess  2020      6    4     4      18        3          156            23        2\n",
       "2020-06-04 04:19:59.612  6bb61e3b7bce0931da574d19d1d82c88   FirstManningAccess  2020      6    4     4      19        3          156            23        2"
      ]
     },
     "execution_count": 79,
     "metadata": {},
     "output_type": "execute_result"
    }
   ],
   "source": [
    "subset_df_sorted.tail()"
   ]
  },
  {
   "cell_type": "code",
   "execution_count": 67,
   "id": "c41f9bea",
   "metadata": {},
   "outputs": [],
   "source": [
    "#create a sample query and put in a dataframe to analyse and predict a particular account from the dataset\n",
    "ne = np.array(['8587c95bad699891a6a0cd9e9f7dfbda','ReadingOwnedBook','2019','11','29','12','14','4','333','48','4']).reshape(1,-1)"
   ]
  },
  {
   "cell_type": "code",
   "execution_count": 68,
   "id": "d81bb9f7",
   "metadata": {},
   "outputs": [
    {
     "data": {
      "text/html": [
       "<div>\n",
       "<style scoped>\n",
       "    .dataframe tbody tr th:only-of-type {\n",
       "        vertical-align: middle;\n",
       "    }\n",
       "\n",
       "    .dataframe tbody tr th {\n",
       "        vertical-align: top;\n",
       "    }\n",
       "\n",
       "    .dataframe thead th {\n",
       "        text-align: right;\n",
       "    }\n",
       "</style>\n",
       "<table border=\"1\" class=\"dataframe\">\n",
       "  <thead>\n",
       "    <tr style=\"text-align: right;\">\n",
       "      <th></th>\n",
       "      <th>account_id</th>\n",
       "      <th>event_type</th>\n",
       "      <th>year</th>\n",
       "      <th>month</th>\n",
       "      <th>day</th>\n",
       "      <th>hour</th>\n",
       "      <th>minute</th>\n",
       "      <th>weekday</th>\n",
       "      <th>day_of_year</th>\n",
       "      <th>week_of_year</th>\n",
       "      <th>quarter</th>\n",
       "    </tr>\n",
       "  </thead>\n",
       "  <tbody>\n",
       "    <tr>\n",
       "      <th>0</th>\n",
       "      <td>8587c95bad699891a6a0cd9e9f7dfbda</td>\n",
       "      <td>ReadingOwnedBook</td>\n",
       "      <td>2019</td>\n",
       "      <td>11</td>\n",
       "      <td>29</td>\n",
       "      <td>12</td>\n",
       "      <td>14</td>\n",
       "      <td>4</td>\n",
       "      <td>333</td>\n",
       "      <td>48</td>\n",
       "      <td>4</td>\n",
       "    </tr>\n",
       "  </tbody>\n",
       "</table>\n",
       "</div>"
      ],
      "text/plain": [
       "                         account_id        event_type  year month day hour minute weekday day_of_year week_of_year quarter\n",
       "0  8587c95bad699891a6a0cd9e9f7dfbda  ReadingOwnedBook  2019    11  29   12     14       4         333           48       4"
      ]
     },
     "execution_count": 68,
     "metadata": {},
     "output_type": "execute_result"
    }
   ],
   "source": [
    "ne = pd.DataFrame(ne,columns=cols)\n",
    "ne"
   ]
  },
  {
   "cell_type": "code",
   "execution_count": 69,
   "id": "b945d406",
   "metadata": {},
   "outputs": [],
   "source": [
    "#writing code for label encoding on the event type\n",
    "le = LabelEncoder()\n",
    "ne['event_type_encoded'] = le.fit_transform(ne['event_type'])\n"
   ]
  },
  {
   "cell_type": "code",
   "execution_count": 70,
   "id": "8800e759",
   "metadata": {},
   "outputs": [
    {
     "data": {
      "text/html": [
       "<div>\n",
       "<style scoped>\n",
       "    .dataframe tbody tr th:only-of-type {\n",
       "        vertical-align: middle;\n",
       "    }\n",
       "\n",
       "    .dataframe tbody tr th {\n",
       "        vertical-align: top;\n",
       "    }\n",
       "\n",
       "    .dataframe thead th {\n",
       "        text-align: right;\n",
       "    }\n",
       "</style>\n",
       "<table border=\"1\" class=\"dataframe\">\n",
       "  <thead>\n",
       "    <tr style=\"text-align: right;\">\n",
       "      <th></th>\n",
       "      <th>account_id</th>\n",
       "      <th>event_type</th>\n",
       "      <th>year</th>\n",
       "      <th>month</th>\n",
       "      <th>day</th>\n",
       "      <th>hour</th>\n",
       "      <th>minute</th>\n",
       "      <th>weekday</th>\n",
       "      <th>day_of_year</th>\n",
       "      <th>week_of_year</th>\n",
       "      <th>quarter</th>\n",
       "      <th>event_type_encoded</th>\n",
       "    </tr>\n",
       "  </thead>\n",
       "  <tbody>\n",
       "    <tr>\n",
       "      <th>0</th>\n",
       "      <td>8587c95bad699891a6a0cd9e9f7dfbda</td>\n",
       "      <td>ReadingOwnedBook</td>\n",
       "      <td>2019</td>\n",
       "      <td>11</td>\n",
       "      <td>29</td>\n",
       "      <td>12</td>\n",
       "      <td>14</td>\n",
       "      <td>4</td>\n",
       "      <td>333</td>\n",
       "      <td>48</td>\n",
       "      <td>4</td>\n",
       "      <td>0</td>\n",
       "    </tr>\n",
       "  </tbody>\n",
       "</table>\n",
       "</div>"
      ],
      "text/plain": [
       "                         account_id        event_type  year month day hour minute weekday day_of_year week_of_year quarter  event_type_encoded\n",
       "0  8587c95bad699891a6a0cd9e9f7dfbda  ReadingOwnedBook  2019    11  29   12     14       4         333           48       4                   0"
      ]
     },
     "execution_count": 70,
     "metadata": {},
     "output_type": "execute_result"
    }
   ],
   "source": [
    "ne"
   ]
  },
  {
   "cell_type": "code",
   "execution_count": 71,
   "id": "d208842c",
   "metadata": {},
   "outputs": [],
   "source": [
    "#dropping the extra columns not needed\n",
    "ne.drop(['account_id','event_type'], axis=1, inplace=True)"
   ]
  },
  {
   "cell_type": "code",
   "execution_count": 73,
   "id": "6b9b96f4",
   "metadata": {},
   "outputs": [],
   "source": [
    "#dropping the extra columns not needed\n",
    "ne.drop(['event_type_encoded'], axis=1, inplace=True)"
   ]
  },
  {
   "cell_type": "code",
   "execution_count": 74,
   "id": "ba55fdf0",
   "metadata": {},
   "outputs": [
    {
     "name": "stderr",
     "output_type": "stream",
     "text": [
      "C:\\Users\\Administrator\\anacond\\lib\\site-packages\\sklearn\\base.py:493: FutureWarning: The feature names should match those that were passed during fit. Starting version 1.2, an error will be raised.\n",
      "Feature names unseen at fit time:\n",
      "- hour\n",
      "Feature names seen at fit time, yet now missing:\n",
      "- event_type_encoded\n",
      "\n",
      "  warnings.warn(message, FutureWarning)\n"
     ]
    },
    {
     "data": {
      "text/plain": [
       "array([[-1.        ,  5.67994105,  1.45716976, -1.00617889,  5.68657952,\n",
       "        -2.39829681, 57.00252466, 95.93250659, -1.26523774]])"
      ]
     },
     "execution_count": 74,
     "metadata": {},
     "output_type": "execute_result"
    }
   ],
   "source": [
    "#encoding and scaling the new data set\n",
    "ne1 = scaler.transform(ne)\n",
    "ne1"
   ]
  },
  {
   "cell_type": "code",
   "execution_count": 78,
   "id": "12de5dfe",
   "metadata": {},
   "outputs": [
    {
     "data": {
      "text/plain": [
       "13.08427"
      ]
     },
     "execution_count": 78,
     "metadata": {},
     "output_type": "execute_result"
    }
   ],
   "source": [
    "abs(model.predict(ne1))[0]\n",
    "#from the result seen below, the next event time predicted,\n",
    "#for the event type \"ReadingOwnedBook\" will be 13 hour of the day that is around 1pm, \n",
    "#in which previous time of the event was 12pm"
   ]
  },
  {
   "cell_type": "code",
   "execution_count": 76,
   "id": "95714420",
   "metadata": {},
   "outputs": [
    {
     "data": {
      "text/html": [
       "<div>\n",
       "<style scoped>\n",
       "    .dataframe tbody tr th:only-of-type {\n",
       "        vertical-align: middle;\n",
       "    }\n",
       "\n",
       "    .dataframe tbody tr th {\n",
       "        vertical-align: top;\n",
       "    }\n",
       "\n",
       "    .dataframe thead th {\n",
       "        text-align: right;\n",
       "    }\n",
       "</style>\n",
       "<table border=\"1\" class=\"dataframe\">\n",
       "  <thead>\n",
       "    <tr style=\"text-align: right;\">\n",
       "      <th></th>\n",
       "      <th>Act</th>\n",
       "      <th>Pred</th>\n",
       "    </tr>\n",
       "  </thead>\n",
       "  <tbody>\n",
       "    <tr>\n",
       "      <th>0</th>\n",
       "      <td>13</td>\n",
       "      <td>y_pred</td>\n",
       "    </tr>\n",
       "    <tr>\n",
       "      <th>1</th>\n",
       "      <td>13</td>\n",
       "      <td>y_pred</td>\n",
       "    </tr>\n",
       "    <tr>\n",
       "      <th>2</th>\n",
       "      <td>13</td>\n",
       "      <td>y_pred</td>\n",
       "    </tr>\n",
       "    <tr>\n",
       "      <th>3</th>\n",
       "      <td>13</td>\n",
       "      <td>y_pred</td>\n",
       "    </tr>\n",
       "    <tr>\n",
       "      <th>4</th>\n",
       "      <td>18</td>\n",
       "      <td>y_pred</td>\n",
       "    </tr>\n",
       "    <tr>\n",
       "      <th>...</th>\n",
       "      <td>...</td>\n",
       "      <td>...</td>\n",
       "    </tr>\n",
       "    <tr>\n",
       "      <th>18109</th>\n",
       "      <td>4</td>\n",
       "      <td>y_pred</td>\n",
       "    </tr>\n",
       "    <tr>\n",
       "      <th>18110</th>\n",
       "      <td>12</td>\n",
       "      <td>y_pred</td>\n",
       "    </tr>\n",
       "    <tr>\n",
       "      <th>18111</th>\n",
       "      <td>22</td>\n",
       "      <td>y_pred</td>\n",
       "    </tr>\n",
       "    <tr>\n",
       "      <th>18112</th>\n",
       "      <td>15</td>\n",
       "      <td>y_pred</td>\n",
       "    </tr>\n",
       "    <tr>\n",
       "      <th>18113</th>\n",
       "      <td>19</td>\n",
       "      <td>y_pred</td>\n",
       "    </tr>\n",
       "  </tbody>\n",
       "</table>\n",
       "<p>18114 rows × 2 columns</p>\n",
       "</div>"
      ],
      "text/plain": [
       "       Act    Pred\n",
       "0       13  y_pred\n",
       "1       13  y_pred\n",
       "2       13  y_pred\n",
       "3       13  y_pred\n",
       "4       18  y_pred\n",
       "...    ...     ...\n",
       "18109    4  y_pred\n",
       "18110   12  y_pred\n",
       "18111   22  y_pred\n",
       "18112   15  y_pred\n",
       "18113   19  y_pred\n",
       "\n",
       "[18114 rows x 2 columns]"
      ]
     },
     "execution_count": 76,
     "metadata": {},
     "output_type": "execute_result"
    }
   ],
   "source": [
    "pd.DataFrame({'Act':y_test,'Pred':'y_pred'})"
   ]
  },
  {
   "cell_type": "code",
   "execution_count": 77,
   "id": "2b0c77b0",
   "metadata": {},
   "outputs": [],
   "source": [
    "#saving the picture of model picked,encode used, and the sacler\n",
    "import pickle\n",
    "from pickle import dump\n",
    "# save the model\n",
    "dump(model, open('xgboost.pkl', 'wb'))\n",
    "\n",
    "# save the norminal encoder\n",
    "dump(le, open('le.pkl', 'wb'))\n",
    "\n",
    "# save scaler\n",
    "dump(scaler, open('scal.pkl', 'wb'))"
   ]
  },
  {
   "cell_type": "code",
   "execution_count": 84,
   "id": "830383ad",
   "metadata": {},
   "outputs": [],
   "source": [
    "#creating another sample query and put in a dataframe to analyse and predict a another account\n",
    "new = np.array(['6bb61e3b7bce0931da574d19d1d82c88','FirstLivebookAccess','2020','6','4','4','9','3','156','23','2']).reshape(1,-1)"
   ]
  },
  {
   "cell_type": "code",
   "execution_count": 89,
   "id": "52a58dd3",
   "metadata": {},
   "outputs": [
    {
     "data": {
      "text/html": [
       "<div>\n",
       "<style scoped>\n",
       "    .dataframe tbody tr th:only-of-type {\n",
       "        vertical-align: middle;\n",
       "    }\n",
       "\n",
       "    .dataframe tbody tr th {\n",
       "        vertical-align: top;\n",
       "    }\n",
       "\n",
       "    .dataframe thead th {\n",
       "        text-align: right;\n",
       "    }\n",
       "</style>\n",
       "<table border=\"1\" class=\"dataframe\">\n",
       "  <thead>\n",
       "    <tr style=\"text-align: right;\">\n",
       "      <th></th>\n",
       "      <th>account_id</th>\n",
       "      <th>event_type</th>\n",
       "      <th>year</th>\n",
       "      <th>month</th>\n",
       "      <th>day</th>\n",
       "      <th>hour</th>\n",
       "      <th>minute</th>\n",
       "      <th>weekday</th>\n",
       "      <th>day_of_year</th>\n",
       "      <th>week_of_year</th>\n",
       "      <th>quarter</th>\n",
       "    </tr>\n",
       "  </thead>\n",
       "  <tbody>\n",
       "    <tr>\n",
       "      <th>0</th>\n",
       "      <td>6bb61e3b7bce0931da574d19d1d82c88</td>\n",
       "      <td>FirstLivebookAccess</td>\n",
       "      <td>2020</td>\n",
       "      <td>6</td>\n",
       "      <td>4</td>\n",
       "      <td>4</td>\n",
       "      <td>9</td>\n",
       "      <td>3</td>\n",
       "      <td>156</td>\n",
       "      <td>23</td>\n",
       "      <td>2</td>\n",
       "    </tr>\n",
       "  </tbody>\n",
       "</table>\n",
       "</div>"
      ],
      "text/plain": [
       "                         account_id           event_type  year month day hour minute weekday day_of_year week_of_year quarter\n",
       "0  6bb61e3b7bce0931da574d19d1d82c88  FirstLivebookAccess  2020     6   4    4      9       3         156           23       2"
      ]
     },
     "execution_count": 89,
     "metadata": {},
     "output_type": "execute_result"
    }
   ],
   "source": [
    "new = pd.DataFrame(ne,columns=cols)\n",
    "new"
   ]
  },
  {
   "cell_type": "code",
   "execution_count": 90,
   "id": "66b74428",
   "metadata": {},
   "outputs": [
    {
     "data": {
      "text/html": [
       "<div>\n",
       "<style scoped>\n",
       "    .dataframe tbody tr th:only-of-type {\n",
       "        vertical-align: middle;\n",
       "    }\n",
       "\n",
       "    .dataframe tbody tr th {\n",
       "        vertical-align: top;\n",
       "    }\n",
       "\n",
       "    .dataframe thead th {\n",
       "        text-align: right;\n",
       "    }\n",
       "</style>\n",
       "<table border=\"1\" class=\"dataframe\">\n",
       "  <thead>\n",
       "    <tr style=\"text-align: right;\">\n",
       "      <th></th>\n",
       "      <th>account_id</th>\n",
       "      <th>event_type</th>\n",
       "      <th>year</th>\n",
       "      <th>month</th>\n",
       "      <th>day</th>\n",
       "      <th>hour</th>\n",
       "      <th>minute</th>\n",
       "      <th>weekday</th>\n",
       "      <th>day_of_year</th>\n",
       "      <th>week_of_year</th>\n",
       "      <th>quarter</th>\n",
       "      <th>event_type_encoded</th>\n",
       "    </tr>\n",
       "  </thead>\n",
       "  <tbody>\n",
       "    <tr>\n",
       "      <th>0</th>\n",
       "      <td>6bb61e3b7bce0931da574d19d1d82c88</td>\n",
       "      <td>FirstLivebookAccess</td>\n",
       "      <td>2020</td>\n",
       "      <td>6</td>\n",
       "      <td>4</td>\n",
       "      <td>4</td>\n",
       "      <td>9</td>\n",
       "      <td>3</td>\n",
       "      <td>156</td>\n",
       "      <td>23</td>\n",
       "      <td>2</td>\n",
       "      <td>0</td>\n",
       "    </tr>\n",
       "  </tbody>\n",
       "</table>\n",
       "</div>"
      ],
      "text/plain": [
       "                         account_id           event_type  year month day hour minute weekday day_of_year week_of_year quarter  event_type_encoded\n",
       "0  6bb61e3b7bce0931da574d19d1d82c88  FirstLivebookAccess  2020     6   4    4      9       3         156           23       2                   0"
      ]
     },
     "execution_count": 90,
     "metadata": {},
     "output_type": "execute_result"
    }
   ],
   "source": [
    "#writing code for label encoding on the event type\n",
    "le = LabelEncoder()\n",
    "new['event_type_encoded'] = le.fit_transform(new['event_type'])\n",
    "new"
   ]
  },
  {
   "cell_type": "code",
   "execution_count": 91,
   "id": "6e10b2eb",
   "metadata": {},
   "outputs": [],
   "source": [
    "#dropping the extra columns not needed\n",
    "new.drop(['account_id','event_type','event_type_encoded'], axis=1, inplace=True)"
   ]
  },
  {
   "cell_type": "code",
   "execution_count": 92,
   "id": "43a97939",
   "metadata": {},
   "outputs": [
    {
     "name": "stderr",
     "output_type": "stream",
     "text": [
      "C:\\Users\\Administrator\\anacond\\lib\\site-packages\\sklearn\\base.py:493: FutureWarning: The feature names should match those that were passed during fit. Starting version 1.2, an error will be raised.\n",
      "Feature names unseen at fit time:\n",
      "- hour\n",
      "Feature names seen at fit time, yet now missing:\n",
      "- event_type_encoded\n",
      "\n",
      "  warnings.warn(message, FutureWarning)\n"
     ]
    },
    {
     "data": {
      "text/plain": [
       "array([[ 0.        ,  1.79362557, -1.36239544, -1.46833393,  3.14100806,\n",
       "        -2.42392094, 25.30653164, 44.21371309, -1.52791133]])"
      ]
     },
     "execution_count": 92,
     "metadata": {},
     "output_type": "execute_result"
    }
   ],
   "source": [
    "#encoding and scaling new data set\n",
    "new1 = scaler.transform(new)\n",
    "new1"
   ]
  },
  {
   "cell_type": "code",
   "execution_count": 94,
   "id": "ab824555",
   "metadata": {},
   "outputs": [
    {
     "data": {
      "text/plain": [
       "array([13.127012], dtype=float32)"
      ]
     },
     "execution_count": 94,
     "metadata": {},
     "output_type": "execute_result"
    }
   ],
   "source": [
    "abs(model.predict(new1))\n",
    "#from the result seen below, the next event time predicted,\n",
    "#for the account id and event type'6bb61e3b7bce0931da574d19d1d82c88','FirstLivebookAccess will be 13 hour of the day which is 1pm in the afternoon, \n",
    "# and in which previous time(hour) of the event was 4am in the morning."
   ]
  },
  {
   "cell_type": "markdown",
   "id": "9b0eb7c9",
   "metadata": {},
   "source": [
    "Conclusion: from the prediction of next event time using xgboost algorithm to build a model shows that the next event time will increase with time from the previous event time used for the training of the model in the dataset, the two account id analyzed shows different prediction time for the next event time of their event types. \n",
    "The first account id use to test the model shows a time difference of 1hr apart from the previous time the event type occurred which was 12pm, while the second account id used shows a difference of 9hrs apart from the previous time it occured which was around 4am in the morning.\n",
    "And this was what point out to my conclusion of increase in time difference apart will happen in the different account id that used the service for different event types, but my conclusion can only be considered after using other models to predict the next event time to be sure of which model is working perfectingly for the prediction. "
   ]
  }
 ],
 "metadata": {
  "kernelspec": {
   "display_name": "Python 3 (ipykernel)",
   "language": "python",
   "name": "python3"
  },
  "language_info": {
   "codemirror_mode": {
    "name": "ipython",
    "version": 3
   },
   "file_extension": ".py",
   "mimetype": "text/x-python",
   "name": "python",
   "nbconvert_exporter": "python",
   "pygments_lexer": "ipython3",
   "version": "3.9.13"
  }
 },
 "nbformat": 4,
 "nbformat_minor": 5
}
